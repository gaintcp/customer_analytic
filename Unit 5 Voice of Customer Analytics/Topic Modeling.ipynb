{
  "nbformat": 4,
  "nbformat_minor": 0,
  "metadata": {
    "colab": {
      "provenance": []
    },
    "kernelspec": {
      "name": "python3",
      "display_name": "Python 3"
    },
    "language_info": {
      "name": "python"
    }
  },
  "cells": [
    {
      "cell_type": "code",
      "source": [
        "pip install --upgrade pythainlp"
      ],
      "metadata": {
        "colab": {
          "base_uri": "https://localhost:8080/"
        },
        "id": "ZABhH2wK5bk3",
        "outputId": "3cf00c02-1367-4c9f-d0ab-45f2c6d5c549"
      },
      "execution_count": 1,
      "outputs": [
        {
          "output_type": "stream",
          "name": "stdout",
          "text": [
            "Requirement already satisfied: pythainlp in /usr/local/lib/python3.10/dist-packages (4.0.2)\n",
            "Requirement already satisfied: requests>=2.22.0 in /usr/local/lib/python3.10/dist-packages (from pythainlp) (2.31.0)\n",
            "Requirement already satisfied: charset-normalizer<4,>=2 in /usr/local/lib/python3.10/dist-packages (from requests>=2.22.0->pythainlp) (3.2.0)\n",
            "Requirement already satisfied: idna<4,>=2.5 in /usr/local/lib/python3.10/dist-packages (from requests>=2.22.0->pythainlp) (3.4)\n",
            "Requirement already satisfied: urllib3<3,>=1.21.1 in /usr/local/lib/python3.10/dist-packages (from requests>=2.22.0->pythainlp) (2.0.4)\n",
            "Requirement already satisfied: certifi>=2017.4.17 in /usr/local/lib/python3.10/dist-packages (from requests>=2.22.0->pythainlp) (2023.7.22)\n"
          ]
        }
      ]
    },
    {
      "cell_type": "code",
      "source": [
        "pip install pyLDAvis\n"
      ],
      "metadata": {
        "colab": {
          "base_uri": "https://localhost:8080/"
        },
        "id": "iEtDUuSj5f5f",
        "outputId": "1168a4ad-e4c3-4012-db19-a2c393113c24"
      },
      "execution_count": 2,
      "outputs": [
        {
          "output_type": "stream",
          "name": "stdout",
          "text": [
            "Requirement already satisfied: pyLDAvis in /usr/local/lib/python3.10/dist-packages (3.4.1)\n",
            "Requirement already satisfied: numpy>=1.24.2 in /usr/local/lib/python3.10/dist-packages (from pyLDAvis) (1.25.2)\n",
            "Requirement already satisfied: scipy in /usr/local/lib/python3.10/dist-packages (from pyLDAvis) (1.10.1)\n",
            "Requirement already satisfied: pandas>=2.0.0 in /usr/local/lib/python3.10/dist-packages (from pyLDAvis) (2.0.3)\n",
            "Requirement already satisfied: joblib>=1.2.0 in /usr/local/lib/python3.10/dist-packages (from pyLDAvis) (1.3.2)\n",
            "Requirement already satisfied: jinja2 in /usr/local/lib/python3.10/dist-packages (from pyLDAvis) (3.1.2)\n",
            "Requirement already satisfied: numexpr in /usr/local/lib/python3.10/dist-packages (from pyLDAvis) (2.8.5)\n",
            "Requirement already satisfied: funcy in /usr/local/lib/python3.10/dist-packages (from pyLDAvis) (2.0)\n",
            "Requirement already satisfied: scikit-learn>=1.0.0 in /usr/local/lib/python3.10/dist-packages (from pyLDAvis) (1.2.2)\n",
            "Requirement already satisfied: gensim in /usr/local/lib/python3.10/dist-packages (from pyLDAvis) (4.3.2)\n",
            "Requirement already satisfied: setuptools in /usr/local/lib/python3.10/dist-packages (from pyLDAvis) (67.7.2)\n",
            "Requirement already satisfied: python-dateutil>=2.8.2 in /usr/local/lib/python3.10/dist-packages (from pandas>=2.0.0->pyLDAvis) (2.8.2)\n",
            "Requirement already satisfied: pytz>=2020.1 in /usr/local/lib/python3.10/dist-packages (from pandas>=2.0.0->pyLDAvis) (2023.3)\n",
            "Requirement already satisfied: tzdata>=2022.1 in /usr/local/lib/python3.10/dist-packages (from pandas>=2.0.0->pyLDAvis) (2023.3)\n",
            "Requirement already satisfied: threadpoolctl>=2.0.0 in /usr/local/lib/python3.10/dist-packages (from scikit-learn>=1.0.0->pyLDAvis) (3.2.0)\n",
            "Requirement already satisfied: smart-open>=1.8.1 in /usr/local/lib/python3.10/dist-packages (from gensim->pyLDAvis) (6.3.0)\n",
            "Requirement already satisfied: MarkupSafe>=2.0 in /usr/local/lib/python3.10/dist-packages (from jinja2->pyLDAvis) (2.1.3)\n",
            "Requirement already satisfied: six>=1.5 in /usr/local/lib/python3.10/dist-packages (from python-dateutil>=2.8.2->pandas>=2.0.0->pyLDAvis) (1.16.0)\n"
          ]
        }
      ]
    },
    {
      "cell_type": "code",
      "source": [
        "import pandas as pd\n",
        "import pythainlp\n"
      ],
      "metadata": {
        "id": "nKiuia3-5mFc"
      },
      "execution_count": 3,
      "outputs": []
    },
    {
      "cell_type": "code",
      "source": [
        "import gensim"
      ],
      "metadata": {
        "id": "QJrhk6CaGtW_"
      },
      "execution_count": 4,
      "outputs": []
    },
    {
      "cell_type": "code",
      "source": [
        "import pyLDAvis.gensim\n",
        "pyLDAvis.enable_notebook()"
      ],
      "metadata": {
        "id": "NMNeYn2gIPQW"
      },
      "execution_count": 5,
      "outputs": []
    },
    {
      "cell_type": "code",
      "source": [
        "import warnings\n",
        "warnings.filterwarnings(\"ignore\", category=DeprecationWarning)"
      ],
      "metadata": {
        "colab": {
          "base_uri": "https://localhost:8080/"
        },
        "id": "_JoIZ3QZ6tqW",
        "outputId": "297df98b-4a31-461a-e39d-ef794b0003b9"
      },
      "execution_count": 6,
      "outputs": [
        {
          "output_type": "stream",
          "name": "stderr",
          "text": [
            "/usr/local/lib/python3.10/dist-packages/ipykernel/ipkernel.py:283: DeprecationWarning: `should_run_async` will not call `transform_cell` automatically in the future. Please pass the result to `transformed_cell` argument and any exception that happen during thetransform in `preprocessing_exc_tuple` in IPython 7.17 and above.\n",
            "  and should_run_async(code)\n"
          ]
        }
      ]
    },
    {
      "cell_type": "code",
      "source": [
        "df = pd.read_csv('review.csv')"
      ],
      "metadata": {
        "id": "4KuBD87N-Pt4"
      },
      "execution_count": 7,
      "outputs": []
    },
    {
      "cell_type": "code",
      "source": [
        "print(df.tail(10))"
      ],
      "metadata": {
        "colab": {
          "base_uri": "https://localhost:8080/"
        },
        "id": "_aHGW_-5-nhr",
        "outputId": "f0131f2a-7c93-4e05-e3b5-c9d632308136"
      },
      "execution_count": 8,
      "outputs": [
        {
          "output_type": "stream",
          "name": "stdout",
          "text": [
            "   Review ID                                             Review\n",
            "0          1  โรงแรมสวยสะอาดดี ติดทะเล แต่เล่นน้ำทะเลไม่ได้ต...\n",
            "1          2  โรงแรมคือดีเลย ติดริมทะเล แต่ติดตรงที่ชายหาดส่...\n",
            "2          3  สิ่งที่ชอบที่สุดของโรงแรมนี้คือพนักงาน บริการด...\n",
            "3          4  บริการดี ตั้งแต่ก้าวแรกที่เดินลงไปที่โรงแรมเลย...\n",
            "4          5  เข้าพักที่ Cape dara resort มิถุนายน 2021 ประท...\n",
            "5          6  มาพักครั้งแรก ประทับใจการบริการและการต้อนรับ ท...\n",
            "6          7  ป็นโรงแรมที่คิดมาตลอดว่า ต้องมาพักดูสักคืน โดย...\n",
            "7          8  เข้าพักทั้งครอบครัวเราพักที่นี่ประจำ มาวันธรรม...\n",
            "8          9  ห้องสวยมาก แต่หาดเฉยๆ เหมาะกับการมาเปลี่ยนที่น...\n",
            "9         10  ประทับใจบริการทุกครั้งที่ได้ไปพัก ทุกแผนกเลย ห...\n"
          ]
        }
      ]
    },
    {
      "cell_type": "code",
      "source": [
        "stopwords = list(pythainlp.corpus.thai_stopwords())\n",
        "removed_words = ['',' ', '\\n', 'โรงเเรม', '(', ')']\n",
        "screening_words = stopwords + removed_words\n",
        "\n",
        "def tokenize_with_space(sentence):\n",
        "  merged = ''\n",
        "  words = pythainlp.word_tokenize(str(sentence), engine='newmm')\n",
        "  for word in words:\n",
        "    if word not in screening_words:\n",
        "      merged = merged + ','+ word\n",
        "      return merged[1:]\n"
      ],
      "metadata": {
        "id": "WZLYnThm-sR2"
      },
      "execution_count": 9,
      "outputs": []
    },
    {
      "cell_type": "code",
      "source": [
        "df['Review_tokenized'] = df['Review'].apply(lambda x: tokenize_with_space(x))\n"
      ],
      "metadata": {
        "id": "LENIXhMmBVaq"
      },
      "execution_count": 10,
      "outputs": []
    },
    {
      "cell_type": "code",
      "source": [
        "df.tail()"
      ],
      "metadata": {
        "colab": {
          "base_uri": "https://localhost:8080/",
          "height": 206
        },
        "id": "TLlRAHHoCDWS",
        "outputId": "8cbd6acb-6fcc-4d74-a03f-60f29a4f8d8d"
      },
      "execution_count": 11,
      "outputs": [
        {
          "output_type": "execute_result",
          "data": {
            "text/plain": [
              "   Review ID                                             Review  \\\n",
              "5          6  มาพักครั้งแรก ประทับใจการบริการและการต้อนรับ ท...   \n",
              "6          7  ป็นโรงแรมที่คิดมาตลอดว่า ต้องมาพักดูสักคืน โดย...   \n",
              "7          8  เข้าพักทั้งครอบครัวเราพักที่นี่ประจำ มาวันธรรม...   \n",
              "8          9  ห้องสวยมาก แต่หาดเฉยๆ เหมาะกับการมาเปลี่ยนที่น...   \n",
              "9         10  ประทับใจบริการทุกครั้งที่ได้ไปพัก ทุกแผนกเลย ห...   \n",
              "\n",
              "  Review_tokenized  \n",
              "5              พัก  \n",
              "6              ป็น  \n",
              "7              พัก  \n",
              "8             ห้อง  \n",
              "9         ประทับใจ  "
            ],
            "text/html": [
              "\n",
              "  <div id=\"df-14d6a6b2-f66f-44e5-9446-706b22141a7c\" class=\"colab-df-container\">\n",
              "    <div>\n",
              "<style scoped>\n",
              "    .dataframe tbody tr th:only-of-type {\n",
              "        vertical-align: middle;\n",
              "    }\n",
              "\n",
              "    .dataframe tbody tr th {\n",
              "        vertical-align: top;\n",
              "    }\n",
              "\n",
              "    .dataframe thead th {\n",
              "        text-align: right;\n",
              "    }\n",
              "</style>\n",
              "<table border=\"1\" class=\"dataframe\">\n",
              "  <thead>\n",
              "    <tr style=\"text-align: right;\">\n",
              "      <th></th>\n",
              "      <th>Review ID</th>\n",
              "      <th>Review</th>\n",
              "      <th>Review_tokenized</th>\n",
              "    </tr>\n",
              "  </thead>\n",
              "  <tbody>\n",
              "    <tr>\n",
              "      <th>5</th>\n",
              "      <td>6</td>\n",
              "      <td>มาพักครั้งแรก ประทับใจการบริการและการต้อนรับ ท...</td>\n",
              "      <td>พัก</td>\n",
              "    </tr>\n",
              "    <tr>\n",
              "      <th>6</th>\n",
              "      <td>7</td>\n",
              "      <td>ป็นโรงแรมที่คิดมาตลอดว่า ต้องมาพักดูสักคืน โดย...</td>\n",
              "      <td>ป็น</td>\n",
              "    </tr>\n",
              "    <tr>\n",
              "      <th>7</th>\n",
              "      <td>8</td>\n",
              "      <td>เข้าพักทั้งครอบครัวเราพักที่นี่ประจำ มาวันธรรม...</td>\n",
              "      <td>พัก</td>\n",
              "    </tr>\n",
              "    <tr>\n",
              "      <th>8</th>\n",
              "      <td>9</td>\n",
              "      <td>ห้องสวยมาก แต่หาดเฉยๆ เหมาะกับการมาเปลี่ยนที่น...</td>\n",
              "      <td>ห้อง</td>\n",
              "    </tr>\n",
              "    <tr>\n",
              "      <th>9</th>\n",
              "      <td>10</td>\n",
              "      <td>ประทับใจบริการทุกครั้งที่ได้ไปพัก ทุกแผนกเลย ห...</td>\n",
              "      <td>ประทับใจ</td>\n",
              "    </tr>\n",
              "  </tbody>\n",
              "</table>\n",
              "</div>\n",
              "    <div class=\"colab-df-buttons\">\n",
              "\n",
              "  <div class=\"colab-df-container\">\n",
              "    <button class=\"colab-df-convert\" onclick=\"convertToInteractive('df-14d6a6b2-f66f-44e5-9446-706b22141a7c')\"\n",
              "            title=\"Convert this dataframe to an interactive table.\"\n",
              "            style=\"display:none;\">\n",
              "\n",
              "  <svg xmlns=\"http://www.w3.org/2000/svg\" height=\"24px\" viewBox=\"0 -960 960 960\">\n",
              "    <path d=\"M120-120v-720h720v720H120Zm60-500h600v-160H180v160Zm220 220h160v-160H400v160Zm0 220h160v-160H400v160ZM180-400h160v-160H180v160Zm440 0h160v-160H620v160ZM180-180h160v-160H180v160Zm440 0h160v-160H620v160Z\"/>\n",
              "  </svg>\n",
              "    </button>\n",
              "\n",
              "  <style>\n",
              "    .colab-df-container {\n",
              "      display:flex;\n",
              "      gap: 12px;\n",
              "    }\n",
              "\n",
              "    .colab-df-convert {\n",
              "      background-color: #E8F0FE;\n",
              "      border: none;\n",
              "      border-radius: 50%;\n",
              "      cursor: pointer;\n",
              "      display: none;\n",
              "      fill: #1967D2;\n",
              "      height: 32px;\n",
              "      padding: 0 0 0 0;\n",
              "      width: 32px;\n",
              "    }\n",
              "\n",
              "    .colab-df-convert:hover {\n",
              "      background-color: #E2EBFA;\n",
              "      box-shadow: 0px 1px 2px rgba(60, 64, 67, 0.3), 0px 1px 3px 1px rgba(60, 64, 67, 0.15);\n",
              "      fill: #174EA6;\n",
              "    }\n",
              "\n",
              "    .colab-df-buttons div {\n",
              "      margin-bottom: 4px;\n",
              "    }\n",
              "\n",
              "    [theme=dark] .colab-df-convert {\n",
              "      background-color: #3B4455;\n",
              "      fill: #D2E3FC;\n",
              "    }\n",
              "\n",
              "    [theme=dark] .colab-df-convert:hover {\n",
              "      background-color: #434B5C;\n",
              "      box-shadow: 0px 1px 3px 1px rgba(0, 0, 0, 0.15);\n",
              "      filter: drop-shadow(0px 1px 2px rgba(0, 0, 0, 0.3));\n",
              "      fill: #FFFFFF;\n",
              "    }\n",
              "  </style>\n",
              "\n",
              "    <script>\n",
              "      const buttonEl =\n",
              "        document.querySelector('#df-14d6a6b2-f66f-44e5-9446-706b22141a7c button.colab-df-convert');\n",
              "      buttonEl.style.display =\n",
              "        google.colab.kernel.accessAllowed ? 'block' : 'none';\n",
              "\n",
              "      async function convertToInteractive(key) {\n",
              "        const element = document.querySelector('#df-14d6a6b2-f66f-44e5-9446-706b22141a7c');\n",
              "        const dataTable =\n",
              "          await google.colab.kernel.invokeFunction('convertToInteractive',\n",
              "                                                    [key], {});\n",
              "        if (!dataTable) return;\n",
              "\n",
              "        const docLinkHtml = 'Like what you see? Visit the ' +\n",
              "          '<a target=\"_blank\" href=https://colab.research.google.com/notebooks/data_table.ipynb>data table notebook</a>'\n",
              "          + ' to learn more about interactive tables.';\n",
              "        element.innerHTML = '';\n",
              "        dataTable['output_type'] = 'display_data';\n",
              "        await google.colab.output.renderOutput(dataTable, element);\n",
              "        const docLink = document.createElement('div');\n",
              "        docLink.innerHTML = docLinkHtml;\n",
              "        element.appendChild(docLink);\n",
              "      }\n",
              "    </script>\n",
              "  </div>\n",
              "\n",
              "\n",
              "<div id=\"df-f9872be6-04a0-484c-aead-0caa048b9300\">\n",
              "  <button class=\"colab-df-quickchart\" onclick=\"quickchart('df-f9872be6-04a0-484c-aead-0caa048b9300')\"\n",
              "            title=\"Suggest charts.\"\n",
              "            style=\"display:none;\">\n",
              "\n",
              "<svg xmlns=\"http://www.w3.org/2000/svg\" height=\"24px\"viewBox=\"0 0 24 24\"\n",
              "     width=\"24px\">\n",
              "    <g>\n",
              "        <path d=\"M19 3H5c-1.1 0-2 .9-2 2v14c0 1.1.9 2 2 2h14c1.1 0 2-.9 2-2V5c0-1.1-.9-2-2-2zM9 17H7v-7h2v7zm4 0h-2V7h2v10zm4 0h-2v-4h2v4z\"/>\n",
              "    </g>\n",
              "</svg>\n",
              "  </button>\n",
              "\n",
              "<style>\n",
              "  .colab-df-quickchart {\n",
              "    background-color: #E8F0FE;\n",
              "    border: none;\n",
              "    border-radius: 50%;\n",
              "    cursor: pointer;\n",
              "    display: none;\n",
              "    fill: #1967D2;\n",
              "    height: 32px;\n",
              "    padding: 0 0 0 0;\n",
              "    width: 32px;\n",
              "  }\n",
              "\n",
              "  .colab-df-quickchart:hover {\n",
              "    background-color: #E2EBFA;\n",
              "    box-shadow: 0px 1px 2px rgba(60, 64, 67, 0.3), 0px 1px 3px 1px rgba(60, 64, 67, 0.15);\n",
              "    fill: #174EA6;\n",
              "  }\n",
              "\n",
              "  [theme=dark] .colab-df-quickchart {\n",
              "    background-color: #3B4455;\n",
              "    fill: #D2E3FC;\n",
              "  }\n",
              "\n",
              "  [theme=dark] .colab-df-quickchart:hover {\n",
              "    background-color: #434B5C;\n",
              "    box-shadow: 0px 1px 3px 1px rgba(0, 0, 0, 0.15);\n",
              "    filter: drop-shadow(0px 1px 2px rgba(0, 0, 0, 0.3));\n",
              "    fill: #FFFFFF;\n",
              "  }\n",
              "</style>\n",
              "\n",
              "  <script>\n",
              "    async function quickchart(key) {\n",
              "      const charts = await google.colab.kernel.invokeFunction(\n",
              "          'suggestCharts', [key], {});\n",
              "    }\n",
              "    (() => {\n",
              "      let quickchartButtonEl =\n",
              "        document.querySelector('#df-f9872be6-04a0-484c-aead-0caa048b9300 button');\n",
              "      quickchartButtonEl.style.display =\n",
              "        google.colab.kernel.accessAllowed ? 'block' : 'none';\n",
              "    })();\n",
              "  </script>\n",
              "</div>\n",
              "    </div>\n",
              "  </div>\n"
            ]
          },
          "metadata": {},
          "execution_count": 11
        }
      ]
    },
    {
      "cell_type": "code",
      "source": [
        "documents = df['Review_tokenized'].to_list()\n",
        "texts = [[text for text in doc.split(',')] for doc in documents]\n",
        "dictionary = gensim.corpora.Dictionary(texts)"
      ],
      "metadata": {
        "id": "7eMMW_KeErMy"
      },
      "execution_count": 12,
      "outputs": []
    },
    {
      "cell_type": "code",
      "source": [
        "print(dictionary.token2id.keys())"
      ],
      "metadata": {
        "colab": {
          "base_uri": "https://localhost:8080/"
        },
        "id": "XwcjAUftIsHA",
        "outputId": "31be6d59-9830-4c72-c9f0-c4764eca4f6d"
      },
      "execution_count": 13,
      "outputs": [
        {
          "output_type": "stream",
          "name": "stdout",
          "text": [
            "dict_keys(['โรงแรม', 'ชอบ', 'บริการ', 'พัก', 'ป็น', 'ห้อง', 'ประทับใจ'])\n"
          ]
        }
      ]
    },
    {
      "cell_type": "code",
      "source": [
        "gensim_corpus = [dictionary.doc2bow(text,allow_update=True) for text in texts]\n",
        "word_frequencies = [[(dictionary[id], frequence) for id, frequence in couple] for couple in gensim_corpus]"
      ],
      "metadata": {
        "id": "aKgTUdRGI7QC"
      },
      "execution_count": 14,
      "outputs": []
    },
    {
      "cell_type": "code",
      "source": [
        "num_topics = 10\n",
        "chunksize = 2000\n",
        "passes = 10\n",
        "iterations = 50\n",
        "eval_every = 1"
      ],
      "metadata": {
        "id": "xstA0FuZJ6uO"
      },
      "execution_count": 15,
      "outputs": []
    },
    {
      "cell_type": "code",
      "source": [
        "temp = dictionary[0]\n",
        "id2word = dictionary.id2token\n",
        "\n",
        "model = gensim.models.LdaModel(\n",
        "    corpus=gensim_corpus,\n",
        "    id2word=id2word,\n",
        "    chunksize=chunksize,\n",
        "    alpha='auto',\n",
        "    eta='auto',\n",
        "    passes=passes,\n",
        "    eval_every=eval_every\n",
        ")\n"
      ],
      "metadata": {
        "id": "2eD_DEA3Lgbn"
      },
      "execution_count": 16,
      "outputs": []
    },
    {
      "cell_type": "code",
      "source": [
        "pyLDAvis.gensim.prepare(model, gensim_corpus, dictionary)"
      ],
      "metadata": {
        "colab": {
          "base_uri": "https://localhost:8080/",
          "height": 861
        },
        "id": "cgT0npRrLspU",
        "outputId": "a960c0f3-3d00-4bea-b1e1-700715723d8f"
      },
      "execution_count": 17,
      "outputs": [
        {
          "output_type": "execute_result",
          "data": {
            "text/plain": [
              "PreparedData(topic_coordinates=         x    y  topics  cluster  Freq\n",
              "topic                                 \n",
              "0      0.0  0.0       1        1   1.0\n",
              "63     0.0  0.0       2        1   1.0\n",
              "73     0.0  0.0       3        1   1.0\n",
              "72     0.0  0.0       4        1   1.0\n",
              "71     0.0  0.0       5        1   1.0\n",
              "...    ...  ...     ...      ...   ...\n",
              "30     0.0  0.0      96        1   1.0\n",
              "29     0.0  0.0      97        1   1.0\n",
              "28     0.0  0.0      98        1   1.0\n",
              "27     0.0  0.0      99        1   1.0\n",
              "99     0.0  0.0     100        1   1.0\n",
              "\n",
              "[100 rows x 5 columns], topic_info=        Term      Freq     Total  Category  logprob  loglift\n",
              "0     โรงแรม  1.000000  1.000000   Default   7.0000      7.0\n",
              "1        ชอบ  1.000000  1.000000   Default   6.0000      6.0\n",
              "2     บริการ  1.000000  1.000000   Default   5.0000      5.0\n",
              "3        พัก  1.000000  1.000000   Default   4.0000      4.0\n",
              "4        ป็น  1.000000  1.000000   Default   3.0000      3.0\n",
              "..       ...       ...       ...       ...      ...      ...\n",
              "2     บริการ  0.014286  1.428572  Topic100  -1.9459      0.0\n",
              "3        พัก  0.014286  1.428572  Topic100  -1.9459      0.0\n",
              "4        ป็น  0.014286  1.428572  Topic100  -1.9459      0.0\n",
              "5       ห้อง  0.014286  1.428572  Topic100  -1.9459      0.0\n",
              "6   ประทับใจ  0.014286  1.428572  Topic100  -1.9459      0.0\n",
              "\n",
              "[707 rows x 6 columns], token_table=Empty DataFrame\n",
              "Columns: [Topic, Freq, Term]\n",
              "Index: [], R=7, lambda_step=0.01, plot_opts={'xlab': 'PC1', 'ylab': 'PC2'}, topic_order=[1, 64, 74, 73, 72, 71, 70, 69, 68, 67, 66, 65, 63, 2, 62, 61, 60, 59, 58, 57, 56, 55, 54, 53, 75, 76, 77, 78, 99, 98, 97, 96, 95, 94, 93, 92, 91, 90, 89, 88, 87, 86, 85, 84, 83, 82, 81, 80, 79, 52, 51, 50, 25, 23, 22, 21, 20, 19, 18, 17, 16, 15, 14, 13, 12, 11, 10, 9, 8, 7, 6, 5, 4, 3, 24, 26, 49, 27, 48, 47, 46, 45, 44, 43, 42, 41, 40, 39, 38, 37, 36, 35, 34, 33, 32, 31, 30, 29, 28, 100])"
            ],
            "text/html": [
              "\n",
              "<link rel=\"stylesheet\" type=\"text/css\" href=\"https://cdn.jsdelivr.net/gh/bmabey/pyLDAvis@3.4.0/pyLDAvis/js/ldavis.v1.0.0.css\">\n",
              "\n",
              "\n",
              "<div id=\"ldavis_el304971343537900775202397534943\" style=\"background-color:white;\"></div>\n",
              "<script type=\"text/javascript\">\n",
              "\n",
              "var ldavis_el304971343537900775202397534943_data = {\"mdsDat\": {\"x\": [0.0, 0.0, 0.0, 0.0, 0.0, 0.0, 0.0, 0.0, 0.0, 0.0, 0.0, 0.0, 0.0, 0.0, 0.0, 0.0, 0.0, 0.0, 0.0, 0.0, 0.0, 0.0, 0.0, 0.0, 0.0, 0.0, 0.0, 0.0, 0.0, 0.0, 0.0, 0.0, 0.0, 0.0, 0.0, 0.0, 0.0, 0.0, 0.0, 0.0, 0.0, 0.0, 0.0, 0.0, 0.0, 0.0, 0.0, 0.0, 0.0, 0.0, 0.0, 0.0, 0.0, 0.0, 0.0, 0.0, 0.0, 0.0, 0.0, 0.0, 0.0, 0.0, 0.0, 0.0, 0.0, 0.0, 0.0, 0.0, 0.0, 0.0, 0.0, 0.0, 0.0, 0.0, 0.0, 0.0, 0.0, 0.0, 0.0, 0.0, 0.0, 0.0, 0.0, 0.0, 0.0, 0.0, 0.0, 0.0, 0.0, 0.0, 0.0, 0.0, 0.0, 0.0, 0.0, 0.0, 0.0, 0.0, 0.0, 0.0], \"y\": [0.0, 0.0, 0.0, 0.0, 0.0, 0.0, 0.0, 0.0, 0.0, 0.0, 0.0, 0.0, 0.0, 0.0, 0.0, 0.0, 0.0, 0.0, 0.0, 0.0, 0.0, 0.0, 0.0, 0.0, 0.0, 0.0, 0.0, 0.0, 0.0, 0.0, 0.0, 0.0, 0.0, 0.0, 0.0, 0.0, 0.0, 0.0, 0.0, 0.0, 0.0, 0.0, 0.0, 0.0, 0.0, 0.0, 0.0, 0.0, 0.0, 0.0, 0.0, 0.0, 0.0, 0.0, 0.0, 0.0, 0.0, 0.0, 0.0, 0.0, 0.0, 0.0, 0.0, 0.0, 0.0, 0.0, 0.0, 0.0, 0.0, 0.0, 0.0, 0.0, 0.0, 0.0, 0.0, 0.0, 0.0, 0.0, 0.0, 0.0, 0.0, 0.0, 0.0, 0.0, 0.0, 0.0, 0.0, 0.0, 0.0, 0.0, 0.0, 0.0, 0.0, 0.0, 0.0, 0.0, 0.0, 0.0, 0.0, 0.0], \"topics\": [1, 2, 3, 4, 5, 6, 7, 8, 9, 10, 11, 12, 13, 14, 15, 16, 17, 18, 19, 20, 21, 22, 23, 24, 25, 26, 27, 28, 29, 30, 31, 32, 33, 34, 35, 36, 37, 38, 39, 40, 41, 42, 43, 44, 45, 46, 47, 48, 49, 50, 51, 52, 53, 54, 55, 56, 57, 58, 59, 60, 61, 62, 63, 64, 65, 66, 67, 68, 69, 70, 71, 72, 73, 74, 75, 76, 77, 78, 79, 80, 81, 82, 83, 84, 85, 86, 87, 88, 89, 90, 91, 92, 93, 94, 95, 96, 97, 98, 99, 100], \"cluster\": [1, 1, 1, 1, 1, 1, 1, 1, 1, 1, 1, 1, 1, 1, 1, 1, 1, 1, 1, 1, 1, 1, 1, 1, 1, 1, 1, 1, 1, 1, 1, 1, 1, 1, 1, 1, 1, 1, 1, 1, 1, 1, 1, 1, 1, 1, 1, 1, 1, 1, 1, 1, 1, 1, 1, 1, 1, 1, 1, 1, 1, 1, 1, 1, 1, 1, 1, 1, 1, 1, 1, 1, 1, 1, 1, 1, 1, 1, 1, 1, 1, 1, 1, 1, 1, 1, 1, 1, 1, 1, 1, 1, 1, 1, 1, 1, 1, 1, 1, 1], \"Freq\": [1.0, 1.0, 1.0, 1.0, 1.0, 1.0, 1.0, 1.0, 1.0, 1.0, 1.0, 1.0, 1.0, 1.0, 1.0, 1.0, 1.0, 1.0, 1.0, 1.0, 1.0, 1.0, 1.0, 1.0, 1.0, 1.0, 1.0, 1.0, 1.0, 1.0, 1.0, 1.0, 1.0, 1.0, 1.0, 1.0, 1.0, 1.0, 1.0, 1.0, 1.0, 1.0, 1.0, 1.0, 1.0, 1.0, 1.0, 1.0, 1.0, 1.0, 1.0, 1.0, 1.0, 1.0, 1.0, 1.0, 1.0, 1.0, 1.0, 1.0, 1.0, 1.0, 1.0, 1.0, 1.0, 1.0, 1.0, 1.0, 1.0, 1.0, 1.0, 1.0, 1.0, 1.0, 1.0, 1.0, 1.0, 1.0, 1.0, 1.0, 1.0, 1.0, 1.0, 1.0, 1.0, 1.0, 1.0, 1.0, 1.0, 1.0, 1.0, 1.0, 1.0, 1.0, 1.0, 1.0, 1.0, 1.0, 1.0, 1.0]}, \"tinfo\": {\"Term\": [\"\\u0e42\\u0e23\\u0e07\\u0e41\\u0e23\\u0e21\", \"\\u0e0a\\u0e2d\\u0e1a\", \"\\u0e1a\\u0e23\\u0e34\\u0e01\\u0e32\\u0e23\", \"\\u0e1e\\u0e31\\u0e01\", \"\\u0e1b\\u0e47\\u0e19\", \"\\u0e2b\\u0e49\\u0e2d\\u0e07\", \"\\u0e1b\\u0e23\\u0e30\\u0e17\\u0e31\\u0e1a\\u0e43\\u0e08\", \"\\u0e42\\u0e23\\u0e07\\u0e41\\u0e23\\u0e21\", \"\\u0e0a\\u0e2d\\u0e1a\", \"\\u0e1a\\u0e23\\u0e34\\u0e01\\u0e32\\u0e23\", \"\\u0e1e\\u0e31\\u0e01\", \"\\u0e1b\\u0e47\\u0e19\", \"\\u0e2b\\u0e49\\u0e2d\\u0e07\", \"\\u0e1b\\u0e23\\u0e30\\u0e17\\u0e31\\u0e1a\\u0e43\\u0e08\", \"\\u0e42\\u0e23\\u0e07\\u0e41\\u0e23\\u0e21\", \"\\u0e0a\\u0e2d\\u0e1a\", \"\\u0e1a\\u0e23\\u0e34\\u0e01\\u0e32\\u0e23\", \"\\u0e1e\\u0e31\\u0e01\", \"\\u0e1b\\u0e47\\u0e19\", \"\\u0e2b\\u0e49\\u0e2d\\u0e07\", \"\\u0e1b\\u0e23\\u0e30\\u0e17\\u0e31\\u0e1a\\u0e43\\u0e08\", \"\\u0e42\\u0e23\\u0e07\\u0e41\\u0e23\\u0e21\", \"\\u0e0a\\u0e2d\\u0e1a\", \"\\u0e1a\\u0e23\\u0e34\\u0e01\\u0e32\\u0e23\", \"\\u0e1e\\u0e31\\u0e01\", \"\\u0e1b\\u0e47\\u0e19\", \"\\u0e2b\\u0e49\\u0e2d\\u0e07\", \"\\u0e1b\\u0e23\\u0e30\\u0e17\\u0e31\\u0e1a\\u0e43\\u0e08\", \"\\u0e42\\u0e23\\u0e07\\u0e41\\u0e23\\u0e21\", \"\\u0e0a\\u0e2d\\u0e1a\", \"\\u0e1a\\u0e23\\u0e34\\u0e01\\u0e32\\u0e23\", \"\\u0e1e\\u0e31\\u0e01\", \"\\u0e1b\\u0e47\\u0e19\", \"\\u0e2b\\u0e49\\u0e2d\\u0e07\", \"\\u0e1b\\u0e23\\u0e30\\u0e17\\u0e31\\u0e1a\\u0e43\\u0e08\", \"\\u0e42\\u0e23\\u0e07\\u0e41\\u0e23\\u0e21\", \"\\u0e0a\\u0e2d\\u0e1a\", \"\\u0e1a\\u0e23\\u0e34\\u0e01\\u0e32\\u0e23\", \"\\u0e1e\\u0e31\\u0e01\", \"\\u0e1b\\u0e47\\u0e19\", \"\\u0e2b\\u0e49\\u0e2d\\u0e07\", \"\\u0e1b\\u0e23\\u0e30\\u0e17\\u0e31\\u0e1a\\u0e43\\u0e08\", \"\\u0e42\\u0e23\\u0e07\\u0e41\\u0e23\\u0e21\", \"\\u0e0a\\u0e2d\\u0e1a\", \"\\u0e1a\\u0e23\\u0e34\\u0e01\\u0e32\\u0e23\", \"\\u0e1e\\u0e31\\u0e01\", \"\\u0e1b\\u0e47\\u0e19\", \"\\u0e2b\\u0e49\\u0e2d\\u0e07\", \"\\u0e1b\\u0e23\\u0e30\\u0e17\\u0e31\\u0e1a\\u0e43\\u0e08\", \"\\u0e42\\u0e23\\u0e07\\u0e41\\u0e23\\u0e21\", \"\\u0e0a\\u0e2d\\u0e1a\", \"\\u0e1a\\u0e23\\u0e34\\u0e01\\u0e32\\u0e23\", \"\\u0e1e\\u0e31\\u0e01\", \"\\u0e1b\\u0e47\\u0e19\", \"\\u0e2b\\u0e49\\u0e2d\\u0e07\", \"\\u0e1b\\u0e23\\u0e30\\u0e17\\u0e31\\u0e1a\\u0e43\\u0e08\", \"\\u0e42\\u0e23\\u0e07\\u0e41\\u0e23\\u0e21\", \"\\u0e0a\\u0e2d\\u0e1a\", \"\\u0e1a\\u0e23\\u0e34\\u0e01\\u0e32\\u0e23\", \"\\u0e1e\\u0e31\\u0e01\", \"\\u0e1b\\u0e47\\u0e19\", \"\\u0e2b\\u0e49\\u0e2d\\u0e07\", \"\\u0e1b\\u0e23\\u0e30\\u0e17\\u0e31\\u0e1a\\u0e43\\u0e08\", \"\\u0e42\\u0e23\\u0e07\\u0e41\\u0e23\\u0e21\", \"\\u0e0a\\u0e2d\\u0e1a\", \"\\u0e1a\\u0e23\\u0e34\\u0e01\\u0e32\\u0e23\", \"\\u0e1e\\u0e31\\u0e01\", \"\\u0e1b\\u0e47\\u0e19\", \"\\u0e2b\\u0e49\\u0e2d\\u0e07\", \"\\u0e1b\\u0e23\\u0e30\\u0e17\\u0e31\\u0e1a\\u0e43\\u0e08\", \"\\u0e42\\u0e23\\u0e07\\u0e41\\u0e23\\u0e21\", \"\\u0e0a\\u0e2d\\u0e1a\", \"\\u0e1a\\u0e23\\u0e34\\u0e01\\u0e32\\u0e23\", \"\\u0e1e\\u0e31\\u0e01\", \"\\u0e1b\\u0e47\\u0e19\", \"\\u0e2b\\u0e49\\u0e2d\\u0e07\", \"\\u0e1b\\u0e23\\u0e30\\u0e17\\u0e31\\u0e1a\\u0e43\\u0e08\", \"\\u0e42\\u0e23\\u0e07\\u0e41\\u0e23\\u0e21\", \"\\u0e0a\\u0e2d\\u0e1a\", \"\\u0e1a\\u0e23\\u0e34\\u0e01\\u0e32\\u0e23\", \"\\u0e1e\\u0e31\\u0e01\", \"\\u0e1b\\u0e47\\u0e19\", \"\\u0e2b\\u0e49\\u0e2d\\u0e07\", \"\\u0e1b\\u0e23\\u0e30\\u0e17\\u0e31\\u0e1a\\u0e43\\u0e08\", \"\\u0e42\\u0e23\\u0e07\\u0e41\\u0e23\\u0e21\", \"\\u0e0a\\u0e2d\\u0e1a\", \"\\u0e1a\\u0e23\\u0e34\\u0e01\\u0e32\\u0e23\", \"\\u0e1e\\u0e31\\u0e01\", \"\\u0e1b\\u0e47\\u0e19\", \"\\u0e2b\\u0e49\\u0e2d\\u0e07\", \"\\u0e1b\\u0e23\\u0e30\\u0e17\\u0e31\\u0e1a\\u0e43\\u0e08\", \"\\u0e42\\u0e23\\u0e07\\u0e41\\u0e23\\u0e21\", \"\\u0e0a\\u0e2d\\u0e1a\", \"\\u0e1a\\u0e23\\u0e34\\u0e01\\u0e32\\u0e23\", \"\\u0e1e\\u0e31\\u0e01\", \"\\u0e1b\\u0e47\\u0e19\", \"\\u0e2b\\u0e49\\u0e2d\\u0e07\", \"\\u0e1b\\u0e23\\u0e30\\u0e17\\u0e31\\u0e1a\\u0e43\\u0e08\", \"\\u0e42\\u0e23\\u0e07\\u0e41\\u0e23\\u0e21\", \"\\u0e0a\\u0e2d\\u0e1a\", \"\\u0e1a\\u0e23\\u0e34\\u0e01\\u0e32\\u0e23\", \"\\u0e1e\\u0e31\\u0e01\", \"\\u0e1b\\u0e47\\u0e19\", \"\\u0e2b\\u0e49\\u0e2d\\u0e07\", \"\\u0e1b\\u0e23\\u0e30\\u0e17\\u0e31\\u0e1a\\u0e43\\u0e08\", \"\\u0e42\\u0e23\\u0e07\\u0e41\\u0e23\\u0e21\", \"\\u0e0a\\u0e2d\\u0e1a\", \"\\u0e1a\\u0e23\\u0e34\\u0e01\\u0e32\\u0e23\", \"\\u0e1e\\u0e31\\u0e01\", \"\\u0e1b\\u0e47\\u0e19\", \"\\u0e2b\\u0e49\\u0e2d\\u0e07\", \"\\u0e1b\\u0e23\\u0e30\\u0e17\\u0e31\\u0e1a\\u0e43\\u0e08\", \"\\u0e42\\u0e23\\u0e07\\u0e41\\u0e23\\u0e21\", \"\\u0e0a\\u0e2d\\u0e1a\", \"\\u0e1a\\u0e23\\u0e34\\u0e01\\u0e32\\u0e23\", \"\\u0e1e\\u0e31\\u0e01\", \"\\u0e1b\\u0e47\\u0e19\", \"\\u0e2b\\u0e49\\u0e2d\\u0e07\", \"\\u0e1b\\u0e23\\u0e30\\u0e17\\u0e31\\u0e1a\\u0e43\\u0e08\", \"\\u0e42\\u0e23\\u0e07\\u0e41\\u0e23\\u0e21\", \"\\u0e0a\\u0e2d\\u0e1a\", \"\\u0e1a\\u0e23\\u0e34\\u0e01\\u0e32\\u0e23\", \"\\u0e1e\\u0e31\\u0e01\", \"\\u0e1b\\u0e47\\u0e19\", \"\\u0e2b\\u0e49\\u0e2d\\u0e07\", \"\\u0e1b\\u0e23\\u0e30\\u0e17\\u0e31\\u0e1a\\u0e43\\u0e08\", \"\\u0e42\\u0e23\\u0e07\\u0e41\\u0e23\\u0e21\", \"\\u0e0a\\u0e2d\\u0e1a\", \"\\u0e1a\\u0e23\\u0e34\\u0e01\\u0e32\\u0e23\", \"\\u0e1e\\u0e31\\u0e01\", \"\\u0e1b\\u0e47\\u0e19\", \"\\u0e2b\\u0e49\\u0e2d\\u0e07\", \"\\u0e1b\\u0e23\\u0e30\\u0e17\\u0e31\\u0e1a\\u0e43\\u0e08\", \"\\u0e42\\u0e23\\u0e07\\u0e41\\u0e23\\u0e21\", \"\\u0e0a\\u0e2d\\u0e1a\", \"\\u0e1a\\u0e23\\u0e34\\u0e01\\u0e32\\u0e23\", \"\\u0e1e\\u0e31\\u0e01\", \"\\u0e1b\\u0e47\\u0e19\", \"\\u0e2b\\u0e49\\u0e2d\\u0e07\", \"\\u0e1b\\u0e23\\u0e30\\u0e17\\u0e31\\u0e1a\\u0e43\\u0e08\", \"\\u0e42\\u0e23\\u0e07\\u0e41\\u0e23\\u0e21\", \"\\u0e0a\\u0e2d\\u0e1a\", \"\\u0e1a\\u0e23\\u0e34\\u0e01\\u0e32\\u0e23\", \"\\u0e1e\\u0e31\\u0e01\", \"\\u0e1b\\u0e47\\u0e19\", \"\\u0e2b\\u0e49\\u0e2d\\u0e07\", \"\\u0e1b\\u0e23\\u0e30\\u0e17\\u0e31\\u0e1a\\u0e43\\u0e08\", \"\\u0e42\\u0e23\\u0e07\\u0e41\\u0e23\\u0e21\", \"\\u0e0a\\u0e2d\\u0e1a\", \"\\u0e1a\\u0e23\\u0e34\\u0e01\\u0e32\\u0e23\", \"\\u0e1e\\u0e31\\u0e01\", \"\\u0e1b\\u0e47\\u0e19\", \"\\u0e2b\\u0e49\\u0e2d\\u0e07\", \"\\u0e1b\\u0e23\\u0e30\\u0e17\\u0e31\\u0e1a\\u0e43\\u0e08\", \"\\u0e42\\u0e23\\u0e07\\u0e41\\u0e23\\u0e21\", \"\\u0e0a\\u0e2d\\u0e1a\", \"\\u0e1a\\u0e23\\u0e34\\u0e01\\u0e32\\u0e23\", \"\\u0e1e\\u0e31\\u0e01\", \"\\u0e1b\\u0e47\\u0e19\", \"\\u0e2b\\u0e49\\u0e2d\\u0e07\", \"\\u0e1b\\u0e23\\u0e30\\u0e17\\u0e31\\u0e1a\\u0e43\\u0e08\", \"\\u0e42\\u0e23\\u0e07\\u0e41\\u0e23\\u0e21\", \"\\u0e0a\\u0e2d\\u0e1a\", \"\\u0e1a\\u0e23\\u0e34\\u0e01\\u0e32\\u0e23\", \"\\u0e1e\\u0e31\\u0e01\", \"\\u0e1b\\u0e47\\u0e19\", \"\\u0e2b\\u0e49\\u0e2d\\u0e07\", \"\\u0e1b\\u0e23\\u0e30\\u0e17\\u0e31\\u0e1a\\u0e43\\u0e08\", \"\\u0e42\\u0e23\\u0e07\\u0e41\\u0e23\\u0e21\", \"\\u0e0a\\u0e2d\\u0e1a\", \"\\u0e1a\\u0e23\\u0e34\\u0e01\\u0e32\\u0e23\", \"\\u0e1e\\u0e31\\u0e01\", \"\\u0e1b\\u0e47\\u0e19\", \"\\u0e2b\\u0e49\\u0e2d\\u0e07\", \"\\u0e1b\\u0e23\\u0e30\\u0e17\\u0e31\\u0e1a\\u0e43\\u0e08\", \"\\u0e42\\u0e23\\u0e07\\u0e41\\u0e23\\u0e21\", \"\\u0e0a\\u0e2d\\u0e1a\", \"\\u0e1a\\u0e23\\u0e34\\u0e01\\u0e32\\u0e23\", \"\\u0e1e\\u0e31\\u0e01\", \"\\u0e1b\\u0e47\\u0e19\", \"\\u0e2b\\u0e49\\u0e2d\\u0e07\", \"\\u0e1b\\u0e23\\u0e30\\u0e17\\u0e31\\u0e1a\\u0e43\\u0e08\", \"\\u0e42\\u0e23\\u0e07\\u0e41\\u0e23\\u0e21\", \"\\u0e0a\\u0e2d\\u0e1a\", \"\\u0e1a\\u0e23\\u0e34\\u0e01\\u0e32\\u0e23\", \"\\u0e1e\\u0e31\\u0e01\", \"\\u0e1b\\u0e47\\u0e19\", \"\\u0e2b\\u0e49\\u0e2d\\u0e07\", \"\\u0e1b\\u0e23\\u0e30\\u0e17\\u0e31\\u0e1a\\u0e43\\u0e08\", \"\\u0e42\\u0e23\\u0e07\\u0e41\\u0e23\\u0e21\", \"\\u0e0a\\u0e2d\\u0e1a\", \"\\u0e1a\\u0e23\\u0e34\\u0e01\\u0e32\\u0e23\", \"\\u0e1e\\u0e31\\u0e01\", \"\\u0e1b\\u0e47\\u0e19\", \"\\u0e2b\\u0e49\\u0e2d\\u0e07\", \"\\u0e1b\\u0e23\\u0e30\\u0e17\\u0e31\\u0e1a\\u0e43\\u0e08\", \"\\u0e42\\u0e23\\u0e07\\u0e41\\u0e23\\u0e21\", \"\\u0e0a\\u0e2d\\u0e1a\", \"\\u0e1a\\u0e23\\u0e34\\u0e01\\u0e32\\u0e23\", \"\\u0e1e\\u0e31\\u0e01\", \"\\u0e1b\\u0e47\\u0e19\", \"\\u0e2b\\u0e49\\u0e2d\\u0e07\", \"\\u0e1b\\u0e23\\u0e30\\u0e17\\u0e31\\u0e1a\\u0e43\\u0e08\", \"\\u0e42\\u0e23\\u0e07\\u0e41\\u0e23\\u0e21\", \"\\u0e0a\\u0e2d\\u0e1a\", \"\\u0e1a\\u0e23\\u0e34\\u0e01\\u0e32\\u0e23\", \"\\u0e1e\\u0e31\\u0e01\", \"\\u0e1b\\u0e47\\u0e19\", \"\\u0e2b\\u0e49\\u0e2d\\u0e07\", \"\\u0e1b\\u0e23\\u0e30\\u0e17\\u0e31\\u0e1a\\u0e43\\u0e08\", \"\\u0e42\\u0e23\\u0e07\\u0e41\\u0e23\\u0e21\", \"\\u0e0a\\u0e2d\\u0e1a\", \"\\u0e1a\\u0e23\\u0e34\\u0e01\\u0e32\\u0e23\", \"\\u0e1e\\u0e31\\u0e01\", \"\\u0e1b\\u0e47\\u0e19\", \"\\u0e2b\\u0e49\\u0e2d\\u0e07\", \"\\u0e1b\\u0e23\\u0e30\\u0e17\\u0e31\\u0e1a\\u0e43\\u0e08\", \"\\u0e42\\u0e23\\u0e07\\u0e41\\u0e23\\u0e21\", \"\\u0e0a\\u0e2d\\u0e1a\", \"\\u0e1a\\u0e23\\u0e34\\u0e01\\u0e32\\u0e23\", \"\\u0e1e\\u0e31\\u0e01\", \"\\u0e1b\\u0e47\\u0e19\", \"\\u0e2b\\u0e49\\u0e2d\\u0e07\", \"\\u0e1b\\u0e23\\u0e30\\u0e17\\u0e31\\u0e1a\\u0e43\\u0e08\", \"\\u0e42\\u0e23\\u0e07\\u0e41\\u0e23\\u0e21\", \"\\u0e0a\\u0e2d\\u0e1a\", \"\\u0e1a\\u0e23\\u0e34\\u0e01\\u0e32\\u0e23\", \"\\u0e1e\\u0e31\\u0e01\", \"\\u0e1b\\u0e47\\u0e19\", \"\\u0e2b\\u0e49\\u0e2d\\u0e07\", \"\\u0e1b\\u0e23\\u0e30\\u0e17\\u0e31\\u0e1a\\u0e43\\u0e08\", \"\\u0e42\\u0e23\\u0e07\\u0e41\\u0e23\\u0e21\", \"\\u0e0a\\u0e2d\\u0e1a\", \"\\u0e1a\\u0e23\\u0e34\\u0e01\\u0e32\\u0e23\", \"\\u0e1e\\u0e31\\u0e01\", \"\\u0e1b\\u0e47\\u0e19\", \"\\u0e2b\\u0e49\\u0e2d\\u0e07\", \"\\u0e1b\\u0e23\\u0e30\\u0e17\\u0e31\\u0e1a\\u0e43\\u0e08\", \"\\u0e42\\u0e23\\u0e07\\u0e41\\u0e23\\u0e21\", \"\\u0e0a\\u0e2d\\u0e1a\", \"\\u0e1a\\u0e23\\u0e34\\u0e01\\u0e32\\u0e23\", \"\\u0e1e\\u0e31\\u0e01\", \"\\u0e1b\\u0e47\\u0e19\", \"\\u0e2b\\u0e49\\u0e2d\\u0e07\", \"\\u0e1b\\u0e23\\u0e30\\u0e17\\u0e31\\u0e1a\\u0e43\\u0e08\", \"\\u0e42\\u0e23\\u0e07\\u0e41\\u0e23\\u0e21\", \"\\u0e0a\\u0e2d\\u0e1a\", \"\\u0e1a\\u0e23\\u0e34\\u0e01\\u0e32\\u0e23\", \"\\u0e1e\\u0e31\\u0e01\", \"\\u0e1b\\u0e47\\u0e19\", \"\\u0e2b\\u0e49\\u0e2d\\u0e07\", \"\\u0e1b\\u0e23\\u0e30\\u0e17\\u0e31\\u0e1a\\u0e43\\u0e08\", \"\\u0e42\\u0e23\\u0e07\\u0e41\\u0e23\\u0e21\", \"\\u0e0a\\u0e2d\\u0e1a\", \"\\u0e1a\\u0e23\\u0e34\\u0e01\\u0e32\\u0e23\", \"\\u0e1e\\u0e31\\u0e01\", \"\\u0e1b\\u0e47\\u0e19\", \"\\u0e2b\\u0e49\\u0e2d\\u0e07\", \"\\u0e1b\\u0e23\\u0e30\\u0e17\\u0e31\\u0e1a\\u0e43\\u0e08\", \"\\u0e42\\u0e23\\u0e07\\u0e41\\u0e23\\u0e21\", \"\\u0e0a\\u0e2d\\u0e1a\", \"\\u0e1a\\u0e23\\u0e34\\u0e01\\u0e32\\u0e23\", \"\\u0e1e\\u0e31\\u0e01\", \"\\u0e1b\\u0e47\\u0e19\", \"\\u0e2b\\u0e49\\u0e2d\\u0e07\", \"\\u0e1b\\u0e23\\u0e30\\u0e17\\u0e31\\u0e1a\\u0e43\\u0e08\", \"\\u0e42\\u0e23\\u0e07\\u0e41\\u0e23\\u0e21\", \"\\u0e0a\\u0e2d\\u0e1a\", \"\\u0e1a\\u0e23\\u0e34\\u0e01\\u0e32\\u0e23\", \"\\u0e1e\\u0e31\\u0e01\", \"\\u0e1b\\u0e47\\u0e19\", \"\\u0e2b\\u0e49\\u0e2d\\u0e07\", \"\\u0e1b\\u0e23\\u0e30\\u0e17\\u0e31\\u0e1a\\u0e43\\u0e08\", \"\\u0e42\\u0e23\\u0e07\\u0e41\\u0e23\\u0e21\", \"\\u0e0a\\u0e2d\\u0e1a\", \"\\u0e1a\\u0e23\\u0e34\\u0e01\\u0e32\\u0e23\", \"\\u0e1e\\u0e31\\u0e01\", \"\\u0e1b\\u0e47\\u0e19\", \"\\u0e2b\\u0e49\\u0e2d\\u0e07\", \"\\u0e1b\\u0e23\\u0e30\\u0e17\\u0e31\\u0e1a\\u0e43\\u0e08\", \"\\u0e42\\u0e23\\u0e07\\u0e41\\u0e23\\u0e21\", \"\\u0e0a\\u0e2d\\u0e1a\", \"\\u0e1a\\u0e23\\u0e34\\u0e01\\u0e32\\u0e23\", \"\\u0e1e\\u0e31\\u0e01\", \"\\u0e1b\\u0e47\\u0e19\", \"\\u0e2b\\u0e49\\u0e2d\\u0e07\", \"\\u0e1b\\u0e23\\u0e30\\u0e17\\u0e31\\u0e1a\\u0e43\\u0e08\", \"\\u0e42\\u0e23\\u0e07\\u0e41\\u0e23\\u0e21\", \"\\u0e0a\\u0e2d\\u0e1a\", \"\\u0e1a\\u0e23\\u0e34\\u0e01\\u0e32\\u0e23\", \"\\u0e1e\\u0e31\\u0e01\", \"\\u0e1b\\u0e47\\u0e19\", \"\\u0e2b\\u0e49\\u0e2d\\u0e07\", \"\\u0e1b\\u0e23\\u0e30\\u0e17\\u0e31\\u0e1a\\u0e43\\u0e08\", \"\\u0e42\\u0e23\\u0e07\\u0e41\\u0e23\\u0e21\", \"\\u0e0a\\u0e2d\\u0e1a\", \"\\u0e1a\\u0e23\\u0e34\\u0e01\\u0e32\\u0e23\", \"\\u0e1e\\u0e31\\u0e01\", \"\\u0e1b\\u0e47\\u0e19\", \"\\u0e2b\\u0e49\\u0e2d\\u0e07\", \"\\u0e1b\\u0e23\\u0e30\\u0e17\\u0e31\\u0e1a\\u0e43\\u0e08\", \"\\u0e42\\u0e23\\u0e07\\u0e41\\u0e23\\u0e21\", \"\\u0e0a\\u0e2d\\u0e1a\", \"\\u0e1a\\u0e23\\u0e34\\u0e01\\u0e32\\u0e23\", \"\\u0e1e\\u0e31\\u0e01\", \"\\u0e1b\\u0e47\\u0e19\", \"\\u0e2b\\u0e49\\u0e2d\\u0e07\", \"\\u0e1b\\u0e23\\u0e30\\u0e17\\u0e31\\u0e1a\\u0e43\\u0e08\", \"\\u0e42\\u0e23\\u0e07\\u0e41\\u0e23\\u0e21\", \"\\u0e0a\\u0e2d\\u0e1a\", \"\\u0e1a\\u0e23\\u0e34\\u0e01\\u0e32\\u0e23\", \"\\u0e1e\\u0e31\\u0e01\", \"\\u0e1b\\u0e47\\u0e19\", \"\\u0e2b\\u0e49\\u0e2d\\u0e07\", \"\\u0e1b\\u0e23\\u0e30\\u0e17\\u0e31\\u0e1a\\u0e43\\u0e08\", \"\\u0e42\\u0e23\\u0e07\\u0e41\\u0e23\\u0e21\", \"\\u0e0a\\u0e2d\\u0e1a\", \"\\u0e1a\\u0e23\\u0e34\\u0e01\\u0e32\\u0e23\", \"\\u0e1e\\u0e31\\u0e01\", \"\\u0e1b\\u0e47\\u0e19\", \"\\u0e2b\\u0e49\\u0e2d\\u0e07\", \"\\u0e1b\\u0e23\\u0e30\\u0e17\\u0e31\\u0e1a\\u0e43\\u0e08\", \"\\u0e42\\u0e23\\u0e07\\u0e41\\u0e23\\u0e21\", \"\\u0e0a\\u0e2d\\u0e1a\", \"\\u0e1a\\u0e23\\u0e34\\u0e01\\u0e32\\u0e23\", \"\\u0e1e\\u0e31\\u0e01\", \"\\u0e1b\\u0e47\\u0e19\", \"\\u0e2b\\u0e49\\u0e2d\\u0e07\", \"\\u0e1b\\u0e23\\u0e30\\u0e17\\u0e31\\u0e1a\\u0e43\\u0e08\", \"\\u0e42\\u0e23\\u0e07\\u0e41\\u0e23\\u0e21\", \"\\u0e0a\\u0e2d\\u0e1a\", \"\\u0e1a\\u0e23\\u0e34\\u0e01\\u0e32\\u0e23\", \"\\u0e1e\\u0e31\\u0e01\", \"\\u0e1b\\u0e47\\u0e19\", \"\\u0e2b\\u0e49\\u0e2d\\u0e07\", \"\\u0e1b\\u0e23\\u0e30\\u0e17\\u0e31\\u0e1a\\u0e43\\u0e08\", \"\\u0e42\\u0e23\\u0e07\\u0e41\\u0e23\\u0e21\", \"\\u0e0a\\u0e2d\\u0e1a\", \"\\u0e1a\\u0e23\\u0e34\\u0e01\\u0e32\\u0e23\", \"\\u0e1e\\u0e31\\u0e01\", \"\\u0e1b\\u0e47\\u0e19\", \"\\u0e2b\\u0e49\\u0e2d\\u0e07\", \"\\u0e1b\\u0e23\\u0e30\\u0e17\\u0e31\\u0e1a\\u0e43\\u0e08\", \"\\u0e42\\u0e23\\u0e07\\u0e41\\u0e23\\u0e21\", \"\\u0e0a\\u0e2d\\u0e1a\", \"\\u0e1a\\u0e23\\u0e34\\u0e01\\u0e32\\u0e23\", \"\\u0e1e\\u0e31\\u0e01\", \"\\u0e1b\\u0e47\\u0e19\", \"\\u0e2b\\u0e49\\u0e2d\\u0e07\", \"\\u0e1b\\u0e23\\u0e30\\u0e17\\u0e31\\u0e1a\\u0e43\\u0e08\", \"\\u0e42\\u0e23\\u0e07\\u0e41\\u0e23\\u0e21\", \"\\u0e0a\\u0e2d\\u0e1a\", \"\\u0e1a\\u0e23\\u0e34\\u0e01\\u0e32\\u0e23\", \"\\u0e1e\\u0e31\\u0e01\", \"\\u0e1b\\u0e47\\u0e19\", \"\\u0e2b\\u0e49\\u0e2d\\u0e07\", \"\\u0e1b\\u0e23\\u0e30\\u0e17\\u0e31\\u0e1a\\u0e43\\u0e08\", \"\\u0e42\\u0e23\\u0e07\\u0e41\\u0e23\\u0e21\", \"\\u0e0a\\u0e2d\\u0e1a\", \"\\u0e1a\\u0e23\\u0e34\\u0e01\\u0e32\\u0e23\", \"\\u0e1e\\u0e31\\u0e01\", \"\\u0e1b\\u0e47\\u0e19\", \"\\u0e2b\\u0e49\\u0e2d\\u0e07\", \"\\u0e1b\\u0e23\\u0e30\\u0e17\\u0e31\\u0e1a\\u0e43\\u0e08\", \"\\u0e42\\u0e23\\u0e07\\u0e41\\u0e23\\u0e21\", \"\\u0e0a\\u0e2d\\u0e1a\", \"\\u0e1a\\u0e23\\u0e34\\u0e01\\u0e32\\u0e23\", \"\\u0e1e\\u0e31\\u0e01\", \"\\u0e1b\\u0e47\\u0e19\", \"\\u0e2b\\u0e49\\u0e2d\\u0e07\", \"\\u0e1b\\u0e23\\u0e30\\u0e17\\u0e31\\u0e1a\\u0e43\\u0e08\", \"\\u0e42\\u0e23\\u0e07\\u0e41\\u0e23\\u0e21\", \"\\u0e0a\\u0e2d\\u0e1a\", \"\\u0e1a\\u0e23\\u0e34\\u0e01\\u0e32\\u0e23\", \"\\u0e1e\\u0e31\\u0e01\", \"\\u0e1b\\u0e47\\u0e19\", \"\\u0e2b\\u0e49\\u0e2d\\u0e07\", \"\\u0e1b\\u0e23\\u0e30\\u0e17\\u0e31\\u0e1a\\u0e43\\u0e08\", \"\\u0e42\\u0e23\\u0e07\\u0e41\\u0e23\\u0e21\", \"\\u0e0a\\u0e2d\\u0e1a\", \"\\u0e1a\\u0e23\\u0e34\\u0e01\\u0e32\\u0e23\", \"\\u0e1e\\u0e31\\u0e01\", \"\\u0e1b\\u0e47\\u0e19\", \"\\u0e2b\\u0e49\\u0e2d\\u0e07\", \"\\u0e1b\\u0e23\\u0e30\\u0e17\\u0e31\\u0e1a\\u0e43\\u0e08\", \"\\u0e42\\u0e23\\u0e07\\u0e41\\u0e23\\u0e21\", \"\\u0e0a\\u0e2d\\u0e1a\", \"\\u0e1a\\u0e23\\u0e34\\u0e01\\u0e32\\u0e23\", \"\\u0e1e\\u0e31\\u0e01\", \"\\u0e1b\\u0e47\\u0e19\", \"\\u0e2b\\u0e49\\u0e2d\\u0e07\", \"\\u0e1b\\u0e23\\u0e30\\u0e17\\u0e31\\u0e1a\\u0e43\\u0e08\", \"\\u0e42\\u0e23\\u0e07\\u0e41\\u0e23\\u0e21\", \"\\u0e0a\\u0e2d\\u0e1a\", \"\\u0e1a\\u0e23\\u0e34\\u0e01\\u0e32\\u0e23\", \"\\u0e1e\\u0e31\\u0e01\", \"\\u0e1b\\u0e47\\u0e19\", \"\\u0e2b\\u0e49\\u0e2d\\u0e07\", \"\\u0e1b\\u0e23\\u0e30\\u0e17\\u0e31\\u0e1a\\u0e43\\u0e08\", \"\\u0e42\\u0e23\\u0e07\\u0e41\\u0e23\\u0e21\", \"\\u0e0a\\u0e2d\\u0e1a\", \"\\u0e1a\\u0e23\\u0e34\\u0e01\\u0e32\\u0e23\", \"\\u0e1e\\u0e31\\u0e01\", \"\\u0e1b\\u0e47\\u0e19\", \"\\u0e2b\\u0e49\\u0e2d\\u0e07\", \"\\u0e1b\\u0e23\\u0e30\\u0e17\\u0e31\\u0e1a\\u0e43\\u0e08\", \"\\u0e42\\u0e23\\u0e07\\u0e41\\u0e23\\u0e21\", \"\\u0e0a\\u0e2d\\u0e1a\", \"\\u0e1a\\u0e23\\u0e34\\u0e01\\u0e32\\u0e23\", \"\\u0e1e\\u0e31\\u0e01\", \"\\u0e1b\\u0e47\\u0e19\", \"\\u0e2b\\u0e49\\u0e2d\\u0e07\", \"\\u0e1b\\u0e23\\u0e30\\u0e17\\u0e31\\u0e1a\\u0e43\\u0e08\", \"\\u0e42\\u0e23\\u0e07\\u0e41\\u0e23\\u0e21\", \"\\u0e0a\\u0e2d\\u0e1a\", \"\\u0e1a\\u0e23\\u0e34\\u0e01\\u0e32\\u0e23\", \"\\u0e1e\\u0e31\\u0e01\", \"\\u0e1b\\u0e47\\u0e19\", \"\\u0e2b\\u0e49\\u0e2d\\u0e07\", \"\\u0e1b\\u0e23\\u0e30\\u0e17\\u0e31\\u0e1a\\u0e43\\u0e08\", \"\\u0e42\\u0e23\\u0e07\\u0e41\\u0e23\\u0e21\", \"\\u0e0a\\u0e2d\\u0e1a\", \"\\u0e1a\\u0e23\\u0e34\\u0e01\\u0e32\\u0e23\", \"\\u0e1e\\u0e31\\u0e01\", \"\\u0e1b\\u0e47\\u0e19\", \"\\u0e2b\\u0e49\\u0e2d\\u0e07\", \"\\u0e1b\\u0e23\\u0e30\\u0e17\\u0e31\\u0e1a\\u0e43\\u0e08\", \"\\u0e42\\u0e23\\u0e07\\u0e41\\u0e23\\u0e21\", \"\\u0e0a\\u0e2d\\u0e1a\", \"\\u0e1a\\u0e23\\u0e34\\u0e01\\u0e32\\u0e23\", \"\\u0e1e\\u0e31\\u0e01\", \"\\u0e1b\\u0e47\\u0e19\", \"\\u0e2b\\u0e49\\u0e2d\\u0e07\", \"\\u0e1b\\u0e23\\u0e30\\u0e17\\u0e31\\u0e1a\\u0e43\\u0e08\", \"\\u0e42\\u0e23\\u0e07\\u0e41\\u0e23\\u0e21\", \"\\u0e0a\\u0e2d\\u0e1a\", \"\\u0e1a\\u0e23\\u0e34\\u0e01\\u0e32\\u0e23\", \"\\u0e1e\\u0e31\\u0e01\", \"\\u0e1b\\u0e47\\u0e19\", \"\\u0e2b\\u0e49\\u0e2d\\u0e07\", \"\\u0e1b\\u0e23\\u0e30\\u0e17\\u0e31\\u0e1a\\u0e43\\u0e08\", \"\\u0e42\\u0e23\\u0e07\\u0e41\\u0e23\\u0e21\", \"\\u0e0a\\u0e2d\\u0e1a\", \"\\u0e1a\\u0e23\\u0e34\\u0e01\\u0e32\\u0e23\", \"\\u0e1e\\u0e31\\u0e01\", \"\\u0e1b\\u0e47\\u0e19\", \"\\u0e2b\\u0e49\\u0e2d\\u0e07\", \"\\u0e1b\\u0e23\\u0e30\\u0e17\\u0e31\\u0e1a\\u0e43\\u0e08\", \"\\u0e42\\u0e23\\u0e07\\u0e41\\u0e23\\u0e21\", \"\\u0e0a\\u0e2d\\u0e1a\", \"\\u0e1a\\u0e23\\u0e34\\u0e01\\u0e32\\u0e23\", \"\\u0e1e\\u0e31\\u0e01\", \"\\u0e1b\\u0e47\\u0e19\", \"\\u0e2b\\u0e49\\u0e2d\\u0e07\", \"\\u0e1b\\u0e23\\u0e30\\u0e17\\u0e31\\u0e1a\\u0e43\\u0e08\", \"\\u0e42\\u0e23\\u0e07\\u0e41\\u0e23\\u0e21\", \"\\u0e0a\\u0e2d\\u0e1a\", \"\\u0e1a\\u0e23\\u0e34\\u0e01\\u0e32\\u0e23\", \"\\u0e1e\\u0e31\\u0e01\", \"\\u0e1b\\u0e47\\u0e19\", \"\\u0e2b\\u0e49\\u0e2d\\u0e07\", \"\\u0e1b\\u0e23\\u0e30\\u0e17\\u0e31\\u0e1a\\u0e43\\u0e08\", \"\\u0e42\\u0e23\\u0e07\\u0e41\\u0e23\\u0e21\", \"\\u0e0a\\u0e2d\\u0e1a\", \"\\u0e1a\\u0e23\\u0e34\\u0e01\\u0e32\\u0e23\", \"\\u0e1e\\u0e31\\u0e01\", \"\\u0e1b\\u0e47\\u0e19\", \"\\u0e2b\\u0e49\\u0e2d\\u0e07\", \"\\u0e1b\\u0e23\\u0e30\\u0e17\\u0e31\\u0e1a\\u0e43\\u0e08\", \"\\u0e42\\u0e23\\u0e07\\u0e41\\u0e23\\u0e21\", \"\\u0e0a\\u0e2d\\u0e1a\", \"\\u0e1a\\u0e23\\u0e34\\u0e01\\u0e32\\u0e23\", \"\\u0e1e\\u0e31\\u0e01\", \"\\u0e1b\\u0e47\\u0e19\", \"\\u0e2b\\u0e49\\u0e2d\\u0e07\", \"\\u0e1b\\u0e23\\u0e30\\u0e17\\u0e31\\u0e1a\\u0e43\\u0e08\", \"\\u0e42\\u0e23\\u0e07\\u0e41\\u0e23\\u0e21\", \"\\u0e0a\\u0e2d\\u0e1a\", \"\\u0e1a\\u0e23\\u0e34\\u0e01\\u0e32\\u0e23\", \"\\u0e1e\\u0e31\\u0e01\", \"\\u0e1b\\u0e47\\u0e19\", \"\\u0e2b\\u0e49\\u0e2d\\u0e07\", \"\\u0e1b\\u0e23\\u0e30\\u0e17\\u0e31\\u0e1a\\u0e43\\u0e08\", \"\\u0e42\\u0e23\\u0e07\\u0e41\\u0e23\\u0e21\", \"\\u0e0a\\u0e2d\\u0e1a\", \"\\u0e1a\\u0e23\\u0e34\\u0e01\\u0e32\\u0e23\", \"\\u0e1e\\u0e31\\u0e01\", \"\\u0e1b\\u0e47\\u0e19\", \"\\u0e2b\\u0e49\\u0e2d\\u0e07\", \"\\u0e1b\\u0e23\\u0e30\\u0e17\\u0e31\\u0e1a\\u0e43\\u0e08\", \"\\u0e42\\u0e23\\u0e07\\u0e41\\u0e23\\u0e21\", \"\\u0e0a\\u0e2d\\u0e1a\", \"\\u0e1a\\u0e23\\u0e34\\u0e01\\u0e32\\u0e23\", \"\\u0e1e\\u0e31\\u0e01\", \"\\u0e1b\\u0e47\\u0e19\", \"\\u0e2b\\u0e49\\u0e2d\\u0e07\", \"\\u0e1b\\u0e23\\u0e30\\u0e17\\u0e31\\u0e1a\\u0e43\\u0e08\", \"\\u0e42\\u0e23\\u0e07\\u0e41\\u0e23\\u0e21\", \"\\u0e0a\\u0e2d\\u0e1a\", \"\\u0e1a\\u0e23\\u0e34\\u0e01\\u0e32\\u0e23\", \"\\u0e1e\\u0e31\\u0e01\", \"\\u0e1b\\u0e47\\u0e19\", \"\\u0e2b\\u0e49\\u0e2d\\u0e07\", \"\\u0e1b\\u0e23\\u0e30\\u0e17\\u0e31\\u0e1a\\u0e43\\u0e08\", \"\\u0e42\\u0e23\\u0e07\\u0e41\\u0e23\\u0e21\", \"\\u0e0a\\u0e2d\\u0e1a\", \"\\u0e1a\\u0e23\\u0e34\\u0e01\\u0e32\\u0e23\", \"\\u0e1e\\u0e31\\u0e01\", \"\\u0e1b\\u0e47\\u0e19\", \"\\u0e2b\\u0e49\\u0e2d\\u0e07\", \"\\u0e1b\\u0e23\\u0e30\\u0e17\\u0e31\\u0e1a\\u0e43\\u0e08\", \"\\u0e42\\u0e23\\u0e07\\u0e41\\u0e23\\u0e21\", \"\\u0e0a\\u0e2d\\u0e1a\", \"\\u0e1a\\u0e23\\u0e34\\u0e01\\u0e32\\u0e23\", \"\\u0e1e\\u0e31\\u0e01\", \"\\u0e1b\\u0e47\\u0e19\", \"\\u0e2b\\u0e49\\u0e2d\\u0e07\", \"\\u0e1b\\u0e23\\u0e30\\u0e17\\u0e31\\u0e1a\\u0e43\\u0e08\", \"\\u0e42\\u0e23\\u0e07\\u0e41\\u0e23\\u0e21\", \"\\u0e0a\\u0e2d\\u0e1a\", \"\\u0e1a\\u0e23\\u0e34\\u0e01\\u0e32\\u0e23\", \"\\u0e1e\\u0e31\\u0e01\", \"\\u0e1b\\u0e47\\u0e19\", \"\\u0e2b\\u0e49\\u0e2d\\u0e07\", \"\\u0e1b\\u0e23\\u0e30\\u0e17\\u0e31\\u0e1a\\u0e43\\u0e08\", \"\\u0e42\\u0e23\\u0e07\\u0e41\\u0e23\\u0e21\", \"\\u0e0a\\u0e2d\\u0e1a\", \"\\u0e1a\\u0e23\\u0e34\\u0e01\\u0e32\\u0e23\", \"\\u0e1e\\u0e31\\u0e01\", \"\\u0e1b\\u0e47\\u0e19\", \"\\u0e2b\\u0e49\\u0e2d\\u0e07\", \"\\u0e1b\\u0e23\\u0e30\\u0e17\\u0e31\\u0e1a\\u0e43\\u0e08\", \"\\u0e42\\u0e23\\u0e07\\u0e41\\u0e23\\u0e21\", \"\\u0e0a\\u0e2d\\u0e1a\", \"\\u0e1a\\u0e23\\u0e34\\u0e01\\u0e32\\u0e23\", \"\\u0e1e\\u0e31\\u0e01\", \"\\u0e1b\\u0e47\\u0e19\", \"\\u0e2b\\u0e49\\u0e2d\\u0e07\", \"\\u0e1b\\u0e23\\u0e30\\u0e17\\u0e31\\u0e1a\\u0e43\\u0e08\", \"\\u0e42\\u0e23\\u0e07\\u0e41\\u0e23\\u0e21\", \"\\u0e0a\\u0e2d\\u0e1a\", \"\\u0e1a\\u0e23\\u0e34\\u0e01\\u0e32\\u0e23\", \"\\u0e1e\\u0e31\\u0e01\", \"\\u0e1b\\u0e47\\u0e19\", \"\\u0e2b\\u0e49\\u0e2d\\u0e07\", \"\\u0e1b\\u0e23\\u0e30\\u0e17\\u0e31\\u0e1a\\u0e43\\u0e08\", \"\\u0e42\\u0e23\\u0e07\\u0e41\\u0e23\\u0e21\", \"\\u0e0a\\u0e2d\\u0e1a\", \"\\u0e1a\\u0e23\\u0e34\\u0e01\\u0e32\\u0e23\", \"\\u0e1e\\u0e31\\u0e01\", \"\\u0e1b\\u0e47\\u0e19\", \"\\u0e2b\\u0e49\\u0e2d\\u0e07\", \"\\u0e1b\\u0e23\\u0e30\\u0e17\\u0e31\\u0e1a\\u0e43\\u0e08\", \"\\u0e42\\u0e23\\u0e07\\u0e41\\u0e23\\u0e21\", \"\\u0e0a\\u0e2d\\u0e1a\", \"\\u0e1a\\u0e23\\u0e34\\u0e01\\u0e32\\u0e23\", \"\\u0e1e\\u0e31\\u0e01\", \"\\u0e1b\\u0e47\\u0e19\", \"\\u0e2b\\u0e49\\u0e2d\\u0e07\", \"\\u0e1b\\u0e23\\u0e30\\u0e17\\u0e31\\u0e1a\\u0e43\\u0e08\", \"\\u0e42\\u0e23\\u0e07\\u0e41\\u0e23\\u0e21\", \"\\u0e0a\\u0e2d\\u0e1a\", \"\\u0e1a\\u0e23\\u0e34\\u0e01\\u0e32\\u0e23\", \"\\u0e1e\\u0e31\\u0e01\", \"\\u0e1b\\u0e47\\u0e19\", \"\\u0e2b\\u0e49\\u0e2d\\u0e07\", \"\\u0e1b\\u0e23\\u0e30\\u0e17\\u0e31\\u0e1a\\u0e43\\u0e08\", \"\\u0e42\\u0e23\\u0e07\\u0e41\\u0e23\\u0e21\", \"\\u0e0a\\u0e2d\\u0e1a\", \"\\u0e1a\\u0e23\\u0e34\\u0e01\\u0e32\\u0e23\", \"\\u0e1e\\u0e31\\u0e01\", \"\\u0e1b\\u0e47\\u0e19\", \"\\u0e2b\\u0e49\\u0e2d\\u0e07\", \"\\u0e1b\\u0e23\\u0e30\\u0e17\\u0e31\\u0e1a\\u0e43\\u0e08\", \"\\u0e42\\u0e23\\u0e07\\u0e41\\u0e23\\u0e21\", \"\\u0e0a\\u0e2d\\u0e1a\", \"\\u0e1a\\u0e23\\u0e34\\u0e01\\u0e32\\u0e23\", \"\\u0e1e\\u0e31\\u0e01\", \"\\u0e1b\\u0e47\\u0e19\", \"\\u0e2b\\u0e49\\u0e2d\\u0e07\", \"\\u0e1b\\u0e23\\u0e30\\u0e17\\u0e31\\u0e1a\\u0e43\\u0e08\", \"\\u0e42\\u0e23\\u0e07\\u0e41\\u0e23\\u0e21\", \"\\u0e0a\\u0e2d\\u0e1a\", \"\\u0e1a\\u0e23\\u0e34\\u0e01\\u0e32\\u0e23\", \"\\u0e1e\\u0e31\\u0e01\", \"\\u0e1b\\u0e47\\u0e19\", \"\\u0e2b\\u0e49\\u0e2d\\u0e07\", \"\\u0e1b\\u0e23\\u0e30\\u0e17\\u0e31\\u0e1a\\u0e43\\u0e08\", \"\\u0e42\\u0e23\\u0e07\\u0e41\\u0e23\\u0e21\", \"\\u0e0a\\u0e2d\\u0e1a\", \"\\u0e1a\\u0e23\\u0e34\\u0e01\\u0e32\\u0e23\", \"\\u0e1e\\u0e31\\u0e01\", \"\\u0e1b\\u0e47\\u0e19\", \"\\u0e2b\\u0e49\\u0e2d\\u0e07\", \"\\u0e1b\\u0e23\\u0e30\\u0e17\\u0e31\\u0e1a\\u0e43\\u0e08\", \"\\u0e42\\u0e23\\u0e07\\u0e41\\u0e23\\u0e21\", \"\\u0e0a\\u0e2d\\u0e1a\", \"\\u0e1a\\u0e23\\u0e34\\u0e01\\u0e32\\u0e23\", \"\\u0e1e\\u0e31\\u0e01\", \"\\u0e1b\\u0e47\\u0e19\", \"\\u0e2b\\u0e49\\u0e2d\\u0e07\", \"\\u0e1b\\u0e23\\u0e30\\u0e17\\u0e31\\u0e1a\\u0e43\\u0e08\", \"\\u0e42\\u0e23\\u0e07\\u0e41\\u0e23\\u0e21\", \"\\u0e0a\\u0e2d\\u0e1a\", \"\\u0e1a\\u0e23\\u0e34\\u0e01\\u0e32\\u0e23\", \"\\u0e1e\\u0e31\\u0e01\", \"\\u0e1b\\u0e47\\u0e19\", \"\\u0e2b\\u0e49\\u0e2d\\u0e07\", \"\\u0e1b\\u0e23\\u0e30\\u0e17\\u0e31\\u0e1a\\u0e43\\u0e08\", \"\\u0e42\\u0e23\\u0e07\\u0e41\\u0e23\\u0e21\", \"\\u0e0a\\u0e2d\\u0e1a\", \"\\u0e1a\\u0e23\\u0e34\\u0e01\\u0e32\\u0e23\", \"\\u0e1e\\u0e31\\u0e01\", \"\\u0e1b\\u0e47\\u0e19\", \"\\u0e2b\\u0e49\\u0e2d\\u0e07\", \"\\u0e1b\\u0e23\\u0e30\\u0e17\\u0e31\\u0e1a\\u0e43\\u0e08\", \"\\u0e42\\u0e23\\u0e07\\u0e41\\u0e23\\u0e21\", \"\\u0e0a\\u0e2d\\u0e1a\", \"\\u0e1a\\u0e23\\u0e34\\u0e01\\u0e32\\u0e23\", \"\\u0e1e\\u0e31\\u0e01\", \"\\u0e1b\\u0e47\\u0e19\", \"\\u0e2b\\u0e49\\u0e2d\\u0e07\", \"\\u0e1b\\u0e23\\u0e30\\u0e17\\u0e31\\u0e1a\\u0e43\\u0e08\", \"\\u0e42\\u0e23\\u0e07\\u0e41\\u0e23\\u0e21\", \"\\u0e0a\\u0e2d\\u0e1a\", \"\\u0e1a\\u0e23\\u0e34\\u0e01\\u0e32\\u0e23\", \"\\u0e1e\\u0e31\\u0e01\", \"\\u0e1b\\u0e47\\u0e19\", \"\\u0e2b\\u0e49\\u0e2d\\u0e07\", \"\\u0e1b\\u0e23\\u0e30\\u0e17\\u0e31\\u0e1a\\u0e43\\u0e08\", \"\\u0e42\\u0e23\\u0e07\\u0e41\\u0e23\\u0e21\", \"\\u0e0a\\u0e2d\\u0e1a\", \"\\u0e1a\\u0e23\\u0e34\\u0e01\\u0e32\\u0e23\", \"\\u0e1e\\u0e31\\u0e01\", \"\\u0e1b\\u0e47\\u0e19\", \"\\u0e2b\\u0e49\\u0e2d\\u0e07\", \"\\u0e1b\\u0e23\\u0e30\\u0e17\\u0e31\\u0e1a\\u0e43\\u0e08\", \"\\u0e42\\u0e23\\u0e07\\u0e41\\u0e23\\u0e21\", \"\\u0e0a\\u0e2d\\u0e1a\", \"\\u0e1a\\u0e23\\u0e34\\u0e01\\u0e32\\u0e23\", \"\\u0e1e\\u0e31\\u0e01\", \"\\u0e1b\\u0e47\\u0e19\", \"\\u0e2b\\u0e49\\u0e2d\\u0e07\", \"\\u0e1b\\u0e23\\u0e30\\u0e17\\u0e31\\u0e1a\\u0e43\\u0e08\", \"\\u0e42\\u0e23\\u0e07\\u0e41\\u0e23\\u0e21\", \"\\u0e0a\\u0e2d\\u0e1a\", \"\\u0e1a\\u0e23\\u0e34\\u0e01\\u0e32\\u0e23\", \"\\u0e1e\\u0e31\\u0e01\", \"\\u0e1b\\u0e47\\u0e19\", \"\\u0e2b\\u0e49\\u0e2d\\u0e07\", \"\\u0e1b\\u0e23\\u0e30\\u0e17\\u0e31\\u0e1a\\u0e43\\u0e08\", \"\\u0e42\\u0e23\\u0e07\\u0e41\\u0e23\\u0e21\", \"\\u0e0a\\u0e2d\\u0e1a\", \"\\u0e1a\\u0e23\\u0e34\\u0e01\\u0e32\\u0e23\", \"\\u0e1e\\u0e31\\u0e01\", \"\\u0e1b\\u0e47\\u0e19\", \"\\u0e2b\\u0e49\\u0e2d\\u0e07\", \"\\u0e1b\\u0e23\\u0e30\\u0e17\\u0e31\\u0e1a\\u0e43\\u0e08\", \"\\u0e42\\u0e23\\u0e07\\u0e41\\u0e23\\u0e21\", \"\\u0e0a\\u0e2d\\u0e1a\", \"\\u0e1a\\u0e23\\u0e34\\u0e01\\u0e32\\u0e23\", \"\\u0e1e\\u0e31\\u0e01\", \"\\u0e1b\\u0e47\\u0e19\", \"\\u0e2b\\u0e49\\u0e2d\\u0e07\", \"\\u0e1b\\u0e23\\u0e30\\u0e17\\u0e31\\u0e1a\\u0e43\\u0e08\", \"\\u0e42\\u0e23\\u0e07\\u0e41\\u0e23\\u0e21\", \"\\u0e0a\\u0e2d\\u0e1a\", \"\\u0e1a\\u0e23\\u0e34\\u0e01\\u0e32\\u0e23\", \"\\u0e1e\\u0e31\\u0e01\", \"\\u0e1b\\u0e47\\u0e19\", \"\\u0e2b\\u0e49\\u0e2d\\u0e07\", \"\\u0e1b\\u0e23\\u0e30\\u0e17\\u0e31\\u0e1a\\u0e43\\u0e08\", \"\\u0e42\\u0e23\\u0e07\\u0e41\\u0e23\\u0e21\", \"\\u0e0a\\u0e2d\\u0e1a\", \"\\u0e1a\\u0e23\\u0e34\\u0e01\\u0e32\\u0e23\", \"\\u0e1e\\u0e31\\u0e01\", \"\\u0e1b\\u0e47\\u0e19\", \"\\u0e2b\\u0e49\\u0e2d\\u0e07\", \"\\u0e1b\\u0e23\\u0e30\\u0e17\\u0e31\\u0e1a\\u0e43\\u0e08\", \"\\u0e42\\u0e23\\u0e07\\u0e41\\u0e23\\u0e21\", \"\\u0e0a\\u0e2d\\u0e1a\", \"\\u0e1a\\u0e23\\u0e34\\u0e01\\u0e32\\u0e23\", \"\\u0e1e\\u0e31\\u0e01\", \"\\u0e1b\\u0e47\\u0e19\", \"\\u0e2b\\u0e49\\u0e2d\\u0e07\", \"\\u0e1b\\u0e23\\u0e30\\u0e17\\u0e31\\u0e1a\\u0e43\\u0e08\", \"\\u0e42\\u0e23\\u0e07\\u0e41\\u0e23\\u0e21\", \"\\u0e0a\\u0e2d\\u0e1a\", \"\\u0e1a\\u0e23\\u0e34\\u0e01\\u0e32\\u0e23\", \"\\u0e1e\\u0e31\\u0e01\", \"\\u0e1b\\u0e47\\u0e19\", \"\\u0e2b\\u0e49\\u0e2d\\u0e07\", \"\\u0e1b\\u0e23\\u0e30\\u0e17\\u0e31\\u0e1a\\u0e43\\u0e08\", \"\\u0e42\\u0e23\\u0e07\\u0e41\\u0e23\\u0e21\", \"\\u0e0a\\u0e2d\\u0e1a\", \"\\u0e1a\\u0e23\\u0e34\\u0e01\\u0e32\\u0e23\", \"\\u0e1e\\u0e31\\u0e01\", \"\\u0e1b\\u0e47\\u0e19\", \"\\u0e2b\\u0e49\\u0e2d\\u0e07\", \"\\u0e1b\\u0e23\\u0e30\\u0e17\\u0e31\\u0e1a\\u0e43\\u0e08\", \"\\u0e42\\u0e23\\u0e07\\u0e41\\u0e23\\u0e21\", \"\\u0e0a\\u0e2d\\u0e1a\", \"\\u0e1a\\u0e23\\u0e34\\u0e01\\u0e32\\u0e23\", \"\\u0e1e\\u0e31\\u0e01\", \"\\u0e1b\\u0e47\\u0e19\", \"\\u0e2b\\u0e49\\u0e2d\\u0e07\", \"\\u0e1b\\u0e23\\u0e30\\u0e17\\u0e31\\u0e1a\\u0e43\\u0e08\"], \"Freq\": [1.0, 1.0, 1.0, 1.0, 1.0, 1.0, 1.0, 0.01428571726594663, 0.01428571726594663, 0.01428571726594663, 0.01428571726594663, 0.01428571726594663, 0.01428571726594663, 0.01428571726594663, 0.01428571726594663, 0.01428571726594663, 0.01428571726594663, 0.01428571726594663, 0.01428571726594663, 0.01428571726594663, 0.01428571726594663, 0.01428571726594663, 0.01428571726594663, 0.01428571726594663, 0.01428571726594663, 0.01428571726594663, 0.01428571726594663, 0.01428571726594663, 0.01428571726594663, 0.01428571726594663, 0.01428571726594663, 0.01428571726594663, 0.01428571726594663, 0.01428571726594663, 0.01428571726594663, 0.01428571726594663, 0.01428571726594663, 0.01428571726594663, 0.01428571726594663, 0.01428571726594663, 0.01428571726594663, 0.01428571726594663, 0.01428571726594663, 0.01428571726594663, 0.01428571726594663, 0.01428571726594663, 0.01428571726594663, 0.01428571726594663, 0.01428571726594663, 0.01428571726594663, 0.01428571726594663, 0.01428571726594663, 0.01428571726594663, 0.01428571726594663, 0.01428571726594663, 0.01428571726594663, 0.01428571726594663, 0.01428571726594663, 0.01428571726594663, 0.01428571726594663, 0.01428571726594663, 0.01428571726594663, 0.01428571726594663, 0.01428571726594663, 0.01428571726594663, 0.01428571726594663, 0.01428571726594663, 0.01428571726594663, 0.01428571726594663, 0.01428571726594663, 0.01428571726594663, 0.01428571726594663, 0.01428571726594663, 0.01428571726594663, 0.01428571726594663, 0.01428571726594663, 0.01428571726594663, 0.01428571726594663, 0.01428571726594663, 0.01428571726594663, 0.01428571726594663, 0.01428571726594663, 0.01428571726594663, 0.01428571726594663, 0.01428571726594663, 0.01428571726594663, 0.01428571726594663, 0.01428571726594663, 0.01428571726594663, 0.01428571726594663, 0.01428571726594663, 0.01428571726594663, 0.01428571726594663, 0.01428571726594663, 0.01428571726594663, 0.01428571726594663, 0.01428571726594663, 0.01428571726594663, 0.01428571726594663, 0.01428571726594663, 0.01428571726594663, 0.01428571726594663, 0.01428571726594663, 0.01428571726594663, 0.01428571726594663, 0.01428571726594663, 0.01428571726594663, 0.01428571726594663, 0.01428571726594663, 0.01428571726594663, 0.01428571726594663, 0.01428571726594663, 0.01428571726594663, 0.01428571726594663, 0.01428571726594663, 0.01428571726594663, 0.01428571726594663, 0.01428571726594663, 0.01428571726594663, 0.01428571726594663, 0.01428571726594663, 0.01428571726594663, 0.01428571726594663, 0.01428571726594663, 0.01428571726594663, 0.01428571726594663, 0.01428571726594663, 0.01428571726594663, 0.01428571726594663, 0.01428571726594663, 0.01428571726594663, 0.01428571726594663, 0.01428571726594663, 0.01428571726594663, 0.01428571726594663, 0.01428571726594663, 0.01428571726594663, 0.01428571726594663, 0.01428571726594663, 0.01428571726594663, 0.01428571726594663, 0.01428571726594663, 0.01428571726594663, 0.01428571726594663, 0.01428571726594663, 0.01428571726594663, 0.01428571726594663, 0.01428571726594663, 0.01428571726594663, 0.01428571726594663, 0.01428571726594663, 0.01428571726594663, 0.01428571726594663, 0.01428571726594663, 0.01428571726594663, 0.01428571726594663, 0.01428571726594663, 0.01428571726594663, 0.01428571726594663, 0.01428571726594663, 0.01428571726594663, 0.01428571726594663, 0.01428571726594663, 0.01428571726594663, 0.01428571726594663, 0.01428571726594663, 0.01428571726594663, 0.01428571726594663, 0.01428571726594663, 0.01428571726594663, 0.01428571726594663, 0.01428571726594663, 0.01428571726594663, 0.01428571726594663, 0.01428571726594663, 0.01428571726594663, 0.01428571726594663, 0.01428571726594663, 0.01428571726594663, 0.01428571726594663, 0.01428571726594663, 0.01428571726594663, 0.01428571726594663, 0.01428571726594663, 0.01428571726594663, 0.01428571726594663, 0.01428571726594663, 0.01428571726594663, 0.01428571726594663, 0.01428571726594663, 0.01428571726594663, 0.01428571726594663, 0.01428571726594663, 0.01428571726594663, 0.01428571726594663, 0.01428571726594663, 0.01428571726594663, 0.01428571726594663, 0.01428571726594663, 0.01428571726594663, 0.01428571726594663, 0.01428571726594663, 0.01428571726594663, 0.01428571726594663, 0.01428571726594663, 0.01428571726594663, 0.01428571726594663, 0.01428571726594663, 0.01428571726594663, 0.01428571726594663, 0.01428571726594663, 0.01428571726594663, 0.01428571726594663, 0.01428571726594663, 0.01428571726594663, 0.01428571726594663, 0.01428571726594663, 0.01428571726594663, 0.01428571726594663, 0.01428571726594663, 0.01428571726594663, 0.01428571726594663, 0.01428571726594663, 0.01428571726594663, 0.01428571726594663, 0.01428571726594663, 0.01428571726594663, 0.01428571726594663, 0.01428571726594663, 0.01428571726594663, 0.01428571726594663, 0.01428571726594663, 0.01428571726594663, 0.01428571726594663, 0.01428571726594663, 0.01428571726594663, 0.01428571726594663, 0.01428571726594663, 0.01428571726594663, 0.01428571726594663, 0.01428571726594663, 0.01428571726594663, 0.01428571726594663, 0.01428571726594663, 0.01428571726594663, 0.01428571726594663, 0.01428571726594663, 0.01428571726594663, 0.01428571726594663, 0.01428571726594663, 0.01428571726594663, 0.01428571726594663, 0.01428571726594663, 0.01428571726594663, 0.01428571726594663, 0.01428571726594663, 0.01428571726594663, 0.01428571726594663, 0.01428571726594663, 0.01428571726594663, 0.01428571726594663, 0.01428571726594663, 0.01428571726594663, 0.01428571726594663, 0.01428571726594663, 0.01428571726594663, 0.01428571726594663, 0.01428571726594663, 0.01428571726594663, 0.01428571726594663, 0.01428571726594663, 0.01428571726594663, 0.01428571726594663, 0.01428571726594663, 0.01428571726594663, 0.01428571726594663, 0.01428571726594663, 0.01428571726594663, 0.01428571726594663, 0.01428571726594663, 0.01428571726594663, 0.01428571726594663, 0.01428571726594663, 0.01428571726594663, 0.01428571726594663, 0.01428571726594663, 0.01428571726594663, 0.01428571726594663, 0.01428571726594663, 0.01428571726594663, 0.01428571726594663, 0.01428571726594663, 0.01428571726594663, 0.01428571726594663, 0.01428571726594663, 0.01428571726594663, 0.01428571726594663, 0.01428571726594663, 0.01428571726594663, 0.01428571726594663, 0.01428571726594663, 0.01428571726594663, 0.01428571726594663, 0.01428571726594663, 0.01428571726594663, 0.01428571726594663, 0.01428571726594663, 0.01428571726594663, 0.01428571726594663, 0.01428571726594663, 0.01428571726594663, 0.01428571726594663, 0.01428571726594663, 0.01428571726594663, 0.01428571726594663, 0.01428571726594663, 0.01428571726594663, 0.01428571726594663, 0.01428571726594663, 0.01428571726594663, 0.01428571726594663, 0.01428571726594663, 0.01428571726594663, 0.01428571726594663, 0.01428571726594663, 0.01428571726594663, 0.01428571726594663, 0.01428571726594663, 0.01428571726594663, 0.01428571726594663, 0.01428571726594663, 0.01428571726594663, 0.01428571726594663, 0.01428571726594663, 0.01428571726594663, 0.01428571726594663, 0.01428571726594663, 0.01428571726594663, 0.01428571726594663, 0.01428571726594663, 0.01428571726594663, 0.01428571726594663, 0.01428571726594663, 0.01428571726594663, 0.01428571726594663, 0.01428571726594663, 0.01428571726594663, 0.01428571726594663, 0.01428571726594663, 0.01428571726594663, 0.01428571726594663, 0.01428571726594663, 0.01428571726594663, 0.01428571726594663, 0.01428571726594663, 0.01428571726594663, 0.01428571726594663, 0.01428571726594663, 0.01428571726594663, 0.01428571726594663, 0.01428571726594663, 0.01428571726594663, 0.01428571726594663, 0.01428571726594663, 0.01428571726594663, 0.01428571726594663, 0.01428571726594663, 0.01428571726594663, 0.01428571726594663, 0.01428571726594663, 0.01428571726594663, 0.01428571726594663, 0.01428571726594663, 0.01428571726594663, 0.01428571726594663, 0.01428571726594663, 0.01428571726594663, 0.01428571726594663, 0.01428571726594663, 0.01428571726594663, 0.01428571726594663, 0.01428571726594663, 0.01428571726594663, 0.01428571726594663, 0.01428571726594663, 0.01428571726594663, 0.01428571726594663, 0.01428571726594663, 0.01428571726594663, 0.01428571726594663, 0.01428571726594663, 0.01428571726594663, 0.01428571726594663, 0.01428571726594663, 0.01428571726594663, 0.01428571726594663, 0.01428571726594663, 0.01428571726594663, 0.01428571726594663, 0.01428571726594663, 0.01428571726594663, 0.01428571726594663, 0.01428571726594663, 0.01428571726594663, 0.01428571726594663, 0.01428571726594663, 0.01428571726594663, 0.01428571726594663, 0.01428571726594663, 0.01428571726594663, 0.01428571726594663, 0.01428571726594663, 0.01428571726594663, 0.01428571726594663, 0.01428571726594663, 0.01428571726594663, 0.01428571726594663, 0.01428571726594663, 0.01428571726594663, 0.01428571726594663, 0.01428571726594663, 0.01428571726594663, 0.01428571726594663, 0.01428571726594663, 0.01428571726594663, 0.01428571726594663, 0.01428571726594663, 0.01428571726594663, 0.01428571726594663, 0.01428571726594663, 0.01428571726594663, 0.01428571726594663, 0.01428571726594663, 0.01428571726594663, 0.01428571726594663, 0.01428571726594663, 0.01428571726594663, 0.01428571726594663, 0.01428571726594663, 0.01428571726594663, 0.01428571726594663, 0.01428571726594663, 0.01428571726594663, 0.01428571726594663, 0.01428571726594663, 0.01428571726594663, 0.01428571726594663, 0.01428571726594663, 0.01428571726594663, 0.01428571726594663, 0.01428571726594663, 0.01428571726594663, 0.01428571726594663, 0.01428571726594663, 0.01428571726594663, 0.01428571726594663, 0.01428571726594663, 0.01428571726594663, 0.01428571726594663, 0.01428571726594663, 0.01428571726594663, 0.01428571726594663, 0.01428571726594663, 0.01428571726594663, 0.01428571726594663, 0.01428571726594663, 0.01428571726594663, 0.01428571726594663, 0.01428571726594663, 0.01428571726594663, 0.01428571726594663, 0.01428571726594663, 0.01428571726594663, 0.01428571726594663, 0.01428571726594663, 0.01428571726594663, 0.01428571726594663, 0.01428571726594663, 0.01428571726594663, 0.01428571726594663, 0.01428571726594663, 0.01428571726594663, 0.01428571726594663, 0.01428571726594663, 0.01428571726594663, 0.01428571726594663, 0.01428571726594663, 0.01428571726594663, 0.01428571726594663, 0.01428571726594663, 0.01428571726594663, 0.01428571726594663, 0.01428571726594663, 0.01428571726594663, 0.01428571726594663, 0.01428571726594663, 0.01428571726594663, 0.01428571726594663, 0.01428571726594663, 0.01428571726594663, 0.01428571726594663, 0.01428571726594663, 0.01428571726594663, 0.01428571726594663, 0.01428571726594663, 0.01428571726594663, 0.01428571726594663, 0.01428571726594663, 0.01428571726594663, 0.01428571726594663, 0.01428571726594663, 0.01428571726594663, 0.01428571726594663, 0.01428571726594663, 0.01428571726594663, 0.01428571726594663, 0.01428571726594663, 0.01428571726594663, 0.01428571726594663, 0.01428571726594663, 0.01428571726594663, 0.01428571726594663, 0.01428571726594663, 0.01428571726594663, 0.01428571726594663, 0.01428571726594663, 0.01428571726594663, 0.01428571726594663, 0.01428571726594663, 0.01428571726594663, 0.01428571726594663, 0.01428571726594663, 0.01428571726594663, 0.01428571726594663, 0.01428571726594663, 0.01428571726594663, 0.01428571726594663, 0.01428571726594663, 0.01428571726594663, 0.01428571726594663, 0.01428571726594663, 0.01428571726594663, 0.01428571726594663, 0.01428571726594663, 0.01428571726594663, 0.01428571726594663, 0.01428571726594663, 0.01428571726594663, 0.01428571726594663, 0.01428571726594663, 0.01428571726594663, 0.01428571726594663, 0.01428571726594663, 0.01428571726594663, 0.01428571726594663, 0.01428571726594663, 0.01428571726594663, 0.01428571726594663, 0.01428571726594663, 0.01428571726594663, 0.01428571726594663, 0.01428571726594663, 0.01428571726594663, 0.01428571726594663, 0.01428571726594663, 0.01428571726594663, 0.01428571726594663, 0.01428571726594663, 0.01428571726594663, 0.01428571726594663, 0.01428571726594663, 0.01428571726594663, 0.01428571726594663, 0.01428571726594663, 0.01428571726594663, 0.01428571726594663, 0.01428571726594663, 0.01428571726594663, 0.01428571726594663, 0.01428571726594663, 0.01428571726594663, 0.01428571726594663, 0.01428571726594663, 0.01428571726594663, 0.01428571726594663, 0.01428571726594663, 0.01428571726594663, 0.01428571726594663, 0.01428571726594663, 0.01428571726594663, 0.01428571726594663, 0.01428571726594663, 0.01428571726594663, 0.01428571726594663, 0.01428571726594663, 0.01428571726594663, 0.01428571726594663, 0.01428571726594663, 0.01428571726594663, 0.01428571726594663, 0.01428571726594663, 0.01428571726594663, 0.01428571726594663, 0.01428571726594663, 0.01428571726594663, 0.01428571726594663, 0.01428571726594663, 0.01428571726594663, 0.01428571726594663, 0.01428571726594663, 0.01428571726594663, 0.01428571726594663, 0.01428571726594663, 0.01428571726594663, 0.01428571726594663, 0.01428571726594663, 0.01428571726594663, 0.01428571726594663, 0.01428571726594663, 0.01428571726594663, 0.01428571726594663, 0.01428571726594663, 0.01428571726594663, 0.01428571726594663, 0.01428571726594663, 0.01428571726594663, 0.01428571726594663, 0.01428571726594663, 0.01428571726594663, 0.01428571726594663, 0.01428571726594663, 0.01428571726594663, 0.01428571726594663, 0.01428571726594663, 0.01428571726594663, 0.01428571726594663, 0.01428571726594663, 0.01428571726594663, 0.01428571726594663, 0.01428571726594663, 0.01428571726594663, 0.01428571726594663, 0.01428571726594663, 0.01428571726594663, 0.01428571726594663, 0.01428571726594663, 0.01428571726594663, 0.01428571726594663, 0.01428571726594663, 0.01428571726594663, 0.01428571726594663, 0.01428571726594663, 0.01428571726594663, 0.01428571726594663, 0.01428571726594663, 0.01428571726594663, 0.01428571726594663, 0.01428571726594663, 0.01428571726594663, 0.01428571726594663, 0.01428571726594663, 0.01428571726594663, 0.01428571726594663, 0.01428571726594663, 0.01428571726594663, 0.01428571726594663, 0.01428571726594663, 0.01428571726594663, 0.01428571726594663, 0.01428571726594663, 0.01428571726594663, 0.01428571726594663, 0.01428571726594663, 0.01428571726594663, 0.01428571726594663, 0.01428571726594663, 0.01428571726594663, 0.01428571726594663, 0.01428571726594663, 0.01428571726594663, 0.01428571726594663, 0.01428571726594663, 0.01428571726594663, 0.01428571726594663, 0.01428571726594663, 0.01428571726594663, 0.01428571726594663, 0.01428571726594663, 0.01428571726594663, 0.01428571726594663, 0.01428571726594663, 0.01428571726594663, 0.01428571726594663, 0.01428571726594663, 0.01428571726594663, 0.01428571726594663, 0.01428571726594663, 0.01428571726594663, 0.01428571726594663, 0.01428571726594663, 0.01428571726594663, 0.01428571726594663, 0.01428571726594663, 0.01428571726594663, 0.01428571726594663, 0.01428571726594663, 0.01428571726594663], \"Total\": [1.0, 1.0, 1.0, 1.0, 1.0, 1.0, 1.0, 1.428571726594666, 1.428571726594666, 1.428571726594666, 1.428571726594666, 1.428571726594666, 1.428571726594666, 1.428571726594666, 1.428571726594666, 1.428571726594666, 1.428571726594666, 1.428571726594666, 1.428571726594666, 1.428571726594666, 1.428571726594666, 1.428571726594666, 1.428571726594666, 1.428571726594666, 1.428571726594666, 1.428571726594666, 1.428571726594666, 1.428571726594666, 1.428571726594666, 1.428571726594666, 1.428571726594666, 1.428571726594666, 1.428571726594666, 1.428571726594666, 1.428571726594666, 1.428571726594666, 1.428571726594666, 1.428571726594666, 1.428571726594666, 1.428571726594666, 1.428571726594666, 1.428571726594666, 1.428571726594666, 1.428571726594666, 1.428571726594666, 1.428571726594666, 1.428571726594666, 1.428571726594666, 1.428571726594666, 1.428571726594666, 1.428571726594666, 1.428571726594666, 1.428571726594666, 1.428571726594666, 1.428571726594666, 1.428571726594666, 1.428571726594666, 1.428571726594666, 1.428571726594666, 1.428571726594666, 1.428571726594666, 1.428571726594666, 1.428571726594666, 1.428571726594666, 1.428571726594666, 1.428571726594666, 1.428571726594666, 1.428571726594666, 1.428571726594666, 1.428571726594666, 1.428571726594666, 1.428571726594666, 1.428571726594666, 1.428571726594666, 1.428571726594666, 1.428571726594666, 1.428571726594666, 1.428571726594666, 1.428571726594666, 1.428571726594666, 1.428571726594666, 1.428571726594666, 1.428571726594666, 1.428571726594666, 1.428571726594666, 1.428571726594666, 1.428571726594666, 1.428571726594666, 1.428571726594666, 1.428571726594666, 1.428571726594666, 1.428571726594666, 1.428571726594666, 1.428571726594666, 1.428571726594666, 1.428571726594666, 1.428571726594666, 1.428571726594666, 1.428571726594666, 1.428571726594666, 1.428571726594666, 1.428571726594666, 1.428571726594666, 1.428571726594666, 1.428571726594666, 1.428571726594666, 1.428571726594666, 1.428571726594666, 1.428571726594666, 1.428571726594666, 1.428571726594666, 1.428571726594666, 1.428571726594666, 1.428571726594666, 1.428571726594666, 1.428571726594666, 1.428571726594666, 1.428571726594666, 1.428571726594666, 1.428571726594666, 1.428571726594666, 1.428571726594666, 1.428571726594666, 1.428571726594666, 1.428571726594666, 1.428571726594666, 1.428571726594666, 1.428571726594666, 1.428571726594666, 1.428571726594666, 1.428571726594666, 1.428571726594666, 1.428571726594666, 1.428571726594666, 1.428571726594666, 1.428571726594666, 1.428571726594666, 1.428571726594666, 1.428571726594666, 1.428571726594666, 1.428571726594666, 1.428571726594666, 1.428571726594666, 1.428571726594666, 1.428571726594666, 1.428571726594666, 1.428571726594666, 1.428571726594666, 1.428571726594666, 1.428571726594666, 1.428571726594666, 1.428571726594666, 1.428571726594666, 1.428571726594666, 1.428571726594666, 1.428571726594666, 1.428571726594666, 1.428571726594666, 1.428571726594666, 1.428571726594666, 1.428571726594666, 1.428571726594666, 1.428571726594666, 1.428571726594666, 1.428571726594666, 1.428571726594666, 1.428571726594666, 1.428571726594666, 1.428571726594666, 1.428571726594666, 1.428571726594666, 1.428571726594666, 1.428571726594666, 1.428571726594666, 1.428571726594666, 1.428571726594666, 1.428571726594666, 1.428571726594666, 1.428571726594666, 1.428571726594666, 1.428571726594666, 1.428571726594666, 1.428571726594666, 1.428571726594666, 1.428571726594666, 1.428571726594666, 1.428571726594666, 1.428571726594666, 1.428571726594666, 1.428571726594666, 1.428571726594666, 1.428571726594666, 1.428571726594666, 1.428571726594666, 1.428571726594666, 1.428571726594666, 1.428571726594666, 1.428571726594666, 1.428571726594666, 1.428571726594666, 1.428571726594666, 1.428571726594666, 1.428571726594666, 1.428571726594666, 1.428571726594666, 1.428571726594666, 1.428571726594666, 1.428571726594666, 1.428571726594666, 1.428571726594666, 1.428571726594666, 1.428571726594666, 1.428571726594666, 1.428571726594666, 1.428571726594666, 1.428571726594666, 1.428571726594666, 1.428571726594666, 1.428571726594666, 1.428571726594666, 1.428571726594666, 1.428571726594666, 1.428571726594666, 1.428571726594666, 1.428571726594666, 1.428571726594666, 1.428571726594666, 1.428571726594666, 1.428571726594666, 1.428571726594666, 1.428571726594666, 1.428571726594666, 1.428571726594666, 1.428571726594666, 1.428571726594666, 1.428571726594666, 1.428571726594666, 1.428571726594666, 1.428571726594666, 1.428571726594666, 1.428571726594666, 1.428571726594666, 1.428571726594666, 1.428571726594666, 1.428571726594666, 1.428571726594666, 1.428571726594666, 1.428571726594666, 1.428571726594666, 1.428571726594666, 1.428571726594666, 1.428571726594666, 1.428571726594666, 1.428571726594666, 1.428571726594666, 1.428571726594666, 1.428571726594666, 1.428571726594666, 1.428571726594666, 1.428571726594666, 1.428571726594666, 1.428571726594666, 1.428571726594666, 1.428571726594666, 1.428571726594666, 1.428571726594666, 1.428571726594666, 1.428571726594666, 1.428571726594666, 1.428571726594666, 1.428571726594666, 1.428571726594666, 1.428571726594666, 1.428571726594666, 1.428571726594666, 1.428571726594666, 1.428571726594666, 1.428571726594666, 1.428571726594666, 1.428571726594666, 1.428571726594666, 1.428571726594666, 1.428571726594666, 1.428571726594666, 1.428571726594666, 1.428571726594666, 1.428571726594666, 1.428571726594666, 1.428571726594666, 1.428571726594666, 1.428571726594666, 1.428571726594666, 1.428571726594666, 1.428571726594666, 1.428571726594666, 1.428571726594666, 1.428571726594666, 1.428571726594666, 1.428571726594666, 1.428571726594666, 1.428571726594666, 1.428571726594666, 1.428571726594666, 1.428571726594666, 1.428571726594666, 1.428571726594666, 1.428571726594666, 1.428571726594666, 1.428571726594666, 1.428571726594666, 1.428571726594666, 1.428571726594666, 1.428571726594666, 1.428571726594666, 1.428571726594666, 1.428571726594666, 1.428571726594666, 1.428571726594666, 1.428571726594666, 1.428571726594666, 1.428571726594666, 1.428571726594666, 1.428571726594666, 1.428571726594666, 1.428571726594666, 1.428571726594666, 1.428571726594666, 1.428571726594666, 1.428571726594666, 1.428571726594666, 1.428571726594666, 1.428571726594666, 1.428571726594666, 1.428571726594666, 1.428571726594666, 1.428571726594666, 1.428571726594666, 1.428571726594666, 1.428571726594666, 1.428571726594666, 1.428571726594666, 1.428571726594666, 1.428571726594666, 1.428571726594666, 1.428571726594666, 1.428571726594666, 1.428571726594666, 1.428571726594666, 1.428571726594666, 1.428571726594666, 1.428571726594666, 1.428571726594666, 1.428571726594666, 1.428571726594666, 1.428571726594666, 1.428571726594666, 1.428571726594666, 1.428571726594666, 1.428571726594666, 1.428571726594666, 1.428571726594666, 1.428571726594666, 1.428571726594666, 1.428571726594666, 1.428571726594666, 1.428571726594666, 1.428571726594666, 1.428571726594666, 1.428571726594666, 1.428571726594666, 1.428571726594666, 1.428571726594666, 1.428571726594666, 1.428571726594666, 1.428571726594666, 1.428571726594666, 1.428571726594666, 1.428571726594666, 1.428571726594666, 1.428571726594666, 1.428571726594666, 1.428571726594666, 1.428571726594666, 1.428571726594666, 1.428571726594666, 1.428571726594666, 1.428571726594666, 1.428571726594666, 1.428571726594666, 1.428571726594666, 1.428571726594666, 1.428571726594666, 1.428571726594666, 1.428571726594666, 1.428571726594666, 1.428571726594666, 1.428571726594666, 1.428571726594666, 1.428571726594666, 1.428571726594666, 1.428571726594666, 1.428571726594666, 1.428571726594666, 1.428571726594666, 1.428571726594666, 1.428571726594666, 1.428571726594666, 1.428571726594666, 1.428571726594666, 1.428571726594666, 1.428571726594666, 1.428571726594666, 1.428571726594666, 1.428571726594666, 1.428571726594666, 1.428571726594666, 1.428571726594666, 1.428571726594666, 1.428571726594666, 1.428571726594666, 1.428571726594666, 1.428571726594666, 1.428571726594666, 1.428571726594666, 1.428571726594666, 1.428571726594666, 1.428571726594666, 1.428571726594666, 1.428571726594666, 1.428571726594666, 1.428571726594666, 1.428571726594666, 1.428571726594666, 1.428571726594666, 1.428571726594666, 1.428571726594666, 1.428571726594666, 1.428571726594666, 1.428571726594666, 1.428571726594666, 1.428571726594666, 1.428571726594666, 1.428571726594666, 1.428571726594666, 1.428571726594666, 1.428571726594666, 1.428571726594666, 1.428571726594666, 1.428571726594666, 1.428571726594666, 1.428571726594666, 1.428571726594666, 1.428571726594666, 1.428571726594666, 1.428571726594666, 1.428571726594666, 1.428571726594666, 1.428571726594666, 1.428571726594666, 1.428571726594666, 1.428571726594666, 1.428571726594666, 1.428571726594666, 1.428571726594666, 1.428571726594666, 1.428571726594666, 1.428571726594666, 1.428571726594666, 1.428571726594666, 1.428571726594666, 1.428571726594666, 1.428571726594666, 1.428571726594666, 1.428571726594666, 1.428571726594666, 1.428571726594666, 1.428571726594666, 1.428571726594666, 1.428571726594666, 1.428571726594666, 1.428571726594666, 1.428571726594666, 1.428571726594666, 1.428571726594666, 1.428571726594666, 1.428571726594666, 1.428571726594666, 1.428571726594666, 1.428571726594666, 1.428571726594666, 1.428571726594666, 1.428571726594666, 1.428571726594666, 1.428571726594666, 1.428571726594666, 1.428571726594666, 1.428571726594666, 1.428571726594666, 1.428571726594666, 1.428571726594666, 1.428571726594666, 1.428571726594666, 1.428571726594666, 1.428571726594666, 1.428571726594666, 1.428571726594666, 1.428571726594666, 1.428571726594666, 1.428571726594666, 1.428571726594666, 1.428571726594666, 1.428571726594666, 1.428571726594666, 1.428571726594666, 1.428571726594666, 1.428571726594666, 1.428571726594666, 1.428571726594666, 1.428571726594666, 1.428571726594666, 1.428571726594666, 1.428571726594666, 1.428571726594666, 1.428571726594666, 1.428571726594666, 1.428571726594666, 1.428571726594666, 1.428571726594666, 1.428571726594666, 1.428571726594666, 1.428571726594666, 1.428571726594666, 1.428571726594666, 1.428571726594666, 1.428571726594666, 1.428571726594666, 1.428571726594666, 1.428571726594666, 1.428571726594666, 1.428571726594666, 1.428571726594666, 1.428571726594666, 1.428571726594666, 1.428571726594666, 1.428571726594666, 1.428571726594666, 1.428571726594666, 1.428571726594666, 1.428571726594666, 1.428571726594666, 1.428571726594666, 1.428571726594666, 1.428571726594666, 1.428571726594666, 1.428571726594666, 1.428571726594666, 1.428571726594666, 1.428571726594666, 1.428571726594666, 1.428571726594666, 1.428571726594666, 1.428571726594666, 1.428571726594666, 1.428571726594666, 1.428571726594666, 1.428571726594666, 1.428571726594666, 1.428571726594666, 1.428571726594666, 1.428571726594666, 1.428571726594666, 1.428571726594666, 1.428571726594666, 1.428571726594666, 1.428571726594666, 1.428571726594666, 1.428571726594666, 1.428571726594666, 1.428571726594666, 1.428571726594666, 1.428571726594666, 1.428571726594666, 1.428571726594666, 1.428571726594666, 1.428571726594666, 1.428571726594666, 1.428571726594666, 1.428571726594666, 1.428571726594666, 1.428571726594666, 1.428571726594666, 1.428571726594666, 1.428571726594666, 1.428571726594666, 1.428571726594666, 1.428571726594666, 1.428571726594666, 1.428571726594666, 1.428571726594666, 1.428571726594666, 1.428571726594666, 1.428571726594666, 1.428571726594666, 1.428571726594666, 1.428571726594666, 1.428571726594666, 1.428571726594666, 1.428571726594666, 1.428571726594666, 1.428571726594666, 1.428571726594666, 1.428571726594666, 1.428571726594666, 1.428571726594666, 1.428571726594666, 1.428571726594666, 1.428571726594666, 1.428571726594666, 1.428571726594666, 1.428571726594666, 1.428571726594666, 1.428571726594666, 1.428571726594666, 1.428571726594666, 1.428571726594666, 1.428571726594666, 1.428571726594666, 1.428571726594666, 1.428571726594666, 1.428571726594666, 1.428571726594666, 1.428571726594666, 1.428571726594666, 1.428571726594666, 1.428571726594666, 1.428571726594666, 1.428571726594666, 1.428571726594666, 1.428571726594666, 1.428571726594666, 1.428571726594666, 1.428571726594666, 1.428571726594666, 1.428571726594666, 1.428571726594666, 1.428571726594666, 1.428571726594666, 1.428571726594666, 1.428571726594666, 1.428571726594666, 1.428571726594666, 1.428571726594666, 1.428571726594666, 1.428571726594666, 1.428571726594666, 1.428571726594666, 1.428571726594666, 1.428571726594666, 1.428571726594666, 1.428571726594666, 1.428571726594666, 1.428571726594666, 1.428571726594666, 1.428571726594666, 1.428571726594666, 1.428571726594666, 1.428571726594666, 1.428571726594666, 1.428571726594666, 1.428571726594666, 1.428571726594666, 1.428571726594666, 1.428571726594666, 1.428571726594666, 1.428571726594666, 1.428571726594666, 1.428571726594666, 1.428571726594666, 1.428571726594666, 1.428571726594666, 1.428571726594666, 1.428571726594666, 1.428571726594666, 1.428571726594666, 1.428571726594666, 1.428571726594666, 1.428571726594666, 1.428571726594666, 1.428571726594666, 1.428571726594666, 1.428571726594666, 1.428571726594666, 1.428571726594666, 1.428571726594666, 1.428571726594666, 1.428571726594666, 1.428571726594666, 1.428571726594666, 1.428571726594666, 1.428571726594666, 1.428571726594666, 1.428571726594666, 1.428571726594666, 1.428571726594666, 1.428571726594666, 1.428571726594666, 1.428571726594666], \"Category\": [\"Default\", \"Default\", \"Default\", \"Default\", \"Default\", \"Default\", \"Default\", \"Topic1\", \"Topic1\", \"Topic1\", \"Topic1\", \"Topic1\", \"Topic1\", \"Topic1\", \"Topic2\", \"Topic2\", \"Topic2\", \"Topic2\", \"Topic2\", \"Topic2\", \"Topic2\", \"Topic3\", \"Topic3\", \"Topic3\", \"Topic3\", \"Topic3\", \"Topic3\", \"Topic3\", \"Topic4\", \"Topic4\", \"Topic4\", \"Topic4\", \"Topic4\", \"Topic4\", \"Topic4\", \"Topic5\", \"Topic5\", \"Topic5\", \"Topic5\", \"Topic5\", \"Topic5\", \"Topic5\", \"Topic6\", \"Topic6\", \"Topic6\", \"Topic6\", \"Topic6\", \"Topic6\", \"Topic6\", \"Topic7\", \"Topic7\", \"Topic7\", \"Topic7\", \"Topic7\", \"Topic7\", \"Topic7\", \"Topic8\", \"Topic8\", \"Topic8\", \"Topic8\", \"Topic8\", \"Topic8\", \"Topic8\", \"Topic9\", \"Topic9\", \"Topic9\", \"Topic9\", \"Topic9\", \"Topic9\", \"Topic9\", \"Topic10\", \"Topic10\", \"Topic10\", \"Topic10\", \"Topic10\", \"Topic10\", \"Topic10\", \"Topic11\", \"Topic11\", \"Topic11\", \"Topic11\", \"Topic11\", \"Topic11\", \"Topic11\", \"Topic12\", \"Topic12\", \"Topic12\", \"Topic12\", \"Topic12\", \"Topic12\", \"Topic12\", \"Topic13\", \"Topic13\", \"Topic13\", \"Topic13\", \"Topic13\", \"Topic13\", \"Topic13\", \"Topic14\", \"Topic14\", \"Topic14\", \"Topic14\", \"Topic14\", \"Topic14\", \"Topic14\", \"Topic15\", \"Topic15\", \"Topic15\", \"Topic15\", \"Topic15\", \"Topic15\", \"Topic15\", \"Topic16\", \"Topic16\", \"Topic16\", \"Topic16\", \"Topic16\", \"Topic16\", \"Topic16\", \"Topic17\", \"Topic17\", \"Topic17\", \"Topic17\", \"Topic17\", \"Topic17\", \"Topic17\", \"Topic18\", \"Topic18\", \"Topic18\", \"Topic18\", \"Topic18\", \"Topic18\", \"Topic18\", \"Topic19\", \"Topic19\", \"Topic19\", \"Topic19\", \"Topic19\", \"Topic19\", \"Topic19\", \"Topic20\", \"Topic20\", \"Topic20\", \"Topic20\", \"Topic20\", \"Topic20\", \"Topic20\", \"Topic21\", \"Topic21\", \"Topic21\", \"Topic21\", \"Topic21\", \"Topic21\", \"Topic21\", \"Topic22\", \"Topic22\", \"Topic22\", \"Topic22\", \"Topic22\", \"Topic22\", \"Topic22\", \"Topic23\", \"Topic23\", \"Topic23\", \"Topic23\", \"Topic23\", \"Topic23\", \"Topic23\", \"Topic24\", \"Topic24\", \"Topic24\", \"Topic24\", \"Topic24\", \"Topic24\", \"Topic24\", \"Topic25\", \"Topic25\", \"Topic25\", \"Topic25\", \"Topic25\", \"Topic25\", \"Topic25\", \"Topic26\", \"Topic26\", \"Topic26\", \"Topic26\", \"Topic26\", \"Topic26\", \"Topic26\", \"Topic27\", \"Topic27\", \"Topic27\", \"Topic27\", \"Topic27\", \"Topic27\", \"Topic27\", \"Topic28\", \"Topic28\", \"Topic28\", \"Topic28\", \"Topic28\", \"Topic28\", \"Topic28\", \"Topic29\", \"Topic29\", \"Topic29\", \"Topic29\", \"Topic29\", \"Topic29\", \"Topic29\", \"Topic30\", \"Topic30\", \"Topic30\", \"Topic30\", \"Topic30\", \"Topic30\", \"Topic30\", \"Topic31\", \"Topic31\", \"Topic31\", \"Topic31\", \"Topic31\", \"Topic31\", \"Topic31\", \"Topic32\", \"Topic32\", \"Topic32\", \"Topic32\", \"Topic32\", \"Topic32\", \"Topic32\", \"Topic33\", \"Topic33\", \"Topic33\", \"Topic33\", \"Topic33\", \"Topic33\", \"Topic33\", \"Topic34\", \"Topic34\", \"Topic34\", \"Topic34\", \"Topic34\", \"Topic34\", \"Topic34\", \"Topic35\", \"Topic35\", \"Topic35\", \"Topic35\", \"Topic35\", \"Topic35\", \"Topic35\", \"Topic36\", \"Topic36\", \"Topic36\", \"Topic36\", \"Topic36\", \"Topic36\", \"Topic36\", \"Topic37\", \"Topic37\", \"Topic37\", \"Topic37\", \"Topic37\", \"Topic37\", \"Topic37\", \"Topic38\", \"Topic38\", \"Topic38\", \"Topic38\", \"Topic38\", \"Topic38\", \"Topic38\", \"Topic39\", \"Topic39\", \"Topic39\", \"Topic39\", \"Topic39\", \"Topic39\", \"Topic39\", \"Topic40\", \"Topic40\", \"Topic40\", \"Topic40\", \"Topic40\", \"Topic40\", \"Topic40\", \"Topic41\", \"Topic41\", \"Topic41\", \"Topic41\", \"Topic41\", \"Topic41\", \"Topic41\", \"Topic42\", \"Topic42\", \"Topic42\", \"Topic42\", \"Topic42\", \"Topic42\", \"Topic42\", \"Topic43\", \"Topic43\", \"Topic43\", \"Topic43\", \"Topic43\", \"Topic43\", \"Topic43\", \"Topic44\", \"Topic44\", \"Topic44\", \"Topic44\", \"Topic44\", \"Topic44\", \"Topic44\", \"Topic45\", \"Topic45\", \"Topic45\", \"Topic45\", \"Topic45\", \"Topic45\", \"Topic45\", \"Topic46\", \"Topic46\", \"Topic46\", \"Topic46\", \"Topic46\", \"Topic46\", \"Topic46\", \"Topic47\", \"Topic47\", \"Topic47\", \"Topic47\", \"Topic47\", \"Topic47\", \"Topic47\", \"Topic48\", \"Topic48\", \"Topic48\", \"Topic48\", \"Topic48\", \"Topic48\", \"Topic48\", \"Topic49\", \"Topic49\", \"Topic49\", \"Topic49\", \"Topic49\", \"Topic49\", \"Topic49\", \"Topic50\", \"Topic50\", \"Topic50\", \"Topic50\", \"Topic50\", \"Topic50\", \"Topic50\", \"Topic51\", \"Topic51\", \"Topic51\", \"Topic51\", \"Topic51\", \"Topic51\", \"Topic51\", \"Topic52\", \"Topic52\", \"Topic52\", \"Topic52\", \"Topic52\", \"Topic52\", \"Topic52\", \"Topic53\", \"Topic53\", \"Topic53\", \"Topic53\", \"Topic53\", \"Topic53\", \"Topic53\", \"Topic54\", \"Topic54\", \"Topic54\", \"Topic54\", \"Topic54\", \"Topic54\", \"Topic54\", \"Topic55\", \"Topic55\", \"Topic55\", \"Topic55\", \"Topic55\", \"Topic55\", \"Topic55\", \"Topic56\", \"Topic56\", \"Topic56\", \"Topic56\", \"Topic56\", \"Topic56\", \"Topic56\", \"Topic57\", \"Topic57\", \"Topic57\", \"Topic57\", \"Topic57\", \"Topic57\", \"Topic57\", \"Topic58\", \"Topic58\", \"Topic58\", \"Topic58\", \"Topic58\", \"Topic58\", \"Topic58\", \"Topic59\", \"Topic59\", \"Topic59\", \"Topic59\", \"Topic59\", \"Topic59\", \"Topic59\", \"Topic60\", \"Topic60\", \"Topic60\", \"Topic60\", \"Topic60\", \"Topic60\", \"Topic60\", \"Topic61\", \"Topic61\", \"Topic61\", \"Topic61\", \"Topic61\", \"Topic61\", \"Topic61\", \"Topic62\", \"Topic62\", \"Topic62\", \"Topic62\", \"Topic62\", \"Topic62\", \"Topic62\", \"Topic63\", \"Topic63\", \"Topic63\", \"Topic63\", \"Topic63\", \"Topic63\", \"Topic63\", \"Topic64\", \"Topic64\", \"Topic64\", \"Topic64\", \"Topic64\", \"Topic64\", \"Topic64\", \"Topic65\", \"Topic65\", \"Topic65\", \"Topic65\", \"Topic65\", \"Topic65\", \"Topic65\", \"Topic66\", \"Topic66\", \"Topic66\", \"Topic66\", \"Topic66\", \"Topic66\", \"Topic66\", \"Topic67\", \"Topic67\", \"Topic67\", \"Topic67\", \"Topic67\", \"Topic67\", \"Topic67\", \"Topic68\", \"Topic68\", \"Topic68\", \"Topic68\", \"Topic68\", \"Topic68\", \"Topic68\", \"Topic69\", \"Topic69\", \"Topic69\", \"Topic69\", \"Topic69\", \"Topic69\", \"Topic69\", \"Topic70\", \"Topic70\", \"Topic70\", \"Topic70\", \"Topic70\", \"Topic70\", \"Topic70\", \"Topic71\", \"Topic71\", \"Topic71\", \"Topic71\", \"Topic71\", \"Topic71\", \"Topic71\", \"Topic72\", \"Topic72\", \"Topic72\", \"Topic72\", \"Topic72\", \"Topic72\", \"Topic72\", \"Topic73\", \"Topic73\", \"Topic73\", \"Topic73\", \"Topic73\", \"Topic73\", \"Topic73\", \"Topic74\", \"Topic74\", \"Topic74\", \"Topic74\", \"Topic74\", \"Topic74\", \"Topic74\", \"Topic75\", \"Topic75\", \"Topic75\", \"Topic75\", \"Topic75\", \"Topic75\", \"Topic75\", \"Topic76\", \"Topic76\", \"Topic76\", \"Topic76\", \"Topic76\", \"Topic76\", \"Topic76\", \"Topic77\", \"Topic77\", \"Topic77\", \"Topic77\", \"Topic77\", \"Topic77\", \"Topic77\", \"Topic78\", \"Topic78\", \"Topic78\", \"Topic78\", \"Topic78\", \"Topic78\", \"Topic78\", \"Topic79\", \"Topic79\", \"Topic79\", \"Topic79\", \"Topic79\", \"Topic79\", \"Topic79\", \"Topic80\", \"Topic80\", \"Topic80\", \"Topic80\", \"Topic80\", \"Topic80\", \"Topic80\", \"Topic81\", \"Topic81\", \"Topic81\", \"Topic81\", \"Topic81\", \"Topic81\", \"Topic81\", \"Topic82\", \"Topic82\", \"Topic82\", \"Topic82\", \"Topic82\", \"Topic82\", \"Topic82\", \"Topic83\", \"Topic83\", \"Topic83\", \"Topic83\", \"Topic83\", \"Topic83\", \"Topic83\", \"Topic84\", \"Topic84\", \"Topic84\", \"Topic84\", \"Topic84\", \"Topic84\", \"Topic84\", \"Topic85\", \"Topic85\", \"Topic85\", \"Topic85\", \"Topic85\", \"Topic85\", \"Topic85\", \"Topic86\", \"Topic86\", \"Topic86\", \"Topic86\", \"Topic86\", \"Topic86\", \"Topic86\", \"Topic87\", \"Topic87\", \"Topic87\", \"Topic87\", \"Topic87\", \"Topic87\", \"Topic87\", \"Topic88\", \"Topic88\", \"Topic88\", \"Topic88\", \"Topic88\", \"Topic88\", \"Topic88\", \"Topic89\", \"Topic89\", \"Topic89\", \"Topic89\", \"Topic89\", \"Topic89\", \"Topic89\", \"Topic90\", \"Topic90\", \"Topic90\", \"Topic90\", \"Topic90\", \"Topic90\", \"Topic90\", \"Topic91\", \"Topic91\", \"Topic91\", \"Topic91\", \"Topic91\", \"Topic91\", \"Topic91\", \"Topic92\", \"Topic92\", \"Topic92\", \"Topic92\", \"Topic92\", \"Topic92\", \"Topic92\", \"Topic93\", \"Topic93\", \"Topic93\", \"Topic93\", \"Topic93\", \"Topic93\", \"Topic93\", \"Topic94\", \"Topic94\", \"Topic94\", \"Topic94\", \"Topic94\", \"Topic94\", \"Topic94\", \"Topic95\", \"Topic95\", \"Topic95\", \"Topic95\", \"Topic95\", \"Topic95\", \"Topic95\", \"Topic96\", \"Topic96\", \"Topic96\", \"Topic96\", \"Topic96\", \"Topic96\", \"Topic96\", \"Topic97\", \"Topic97\", \"Topic97\", \"Topic97\", \"Topic97\", \"Topic97\", \"Topic97\", \"Topic98\", \"Topic98\", \"Topic98\", \"Topic98\", \"Topic98\", \"Topic98\", \"Topic98\", \"Topic99\", \"Topic99\", \"Topic99\", \"Topic99\", \"Topic99\", \"Topic99\", \"Topic99\", \"Topic100\", \"Topic100\", \"Topic100\", \"Topic100\", \"Topic100\", \"Topic100\", \"Topic100\"], \"logprob\": [7.0, 6.0, 5.0, 4.0, 3.0, 2.0, 1.0, -1.9459, -1.9459, -1.9459, -1.9459, -1.9459, -1.9459, -1.9459, -1.9459, -1.9459, -1.9459, -1.9459, -1.9459, -1.9459, -1.9459, -1.9459, -1.9459, -1.9459, -1.9459, -1.9459, -1.9459, -1.9459, -1.9459, -1.9459, -1.9459, -1.9459, -1.9459, -1.9459, -1.9459, -1.9459, -1.9459, -1.9459, -1.9459, -1.9459, -1.9459, -1.9459, -1.9459, -1.9459, -1.9459, -1.9459, -1.9459, -1.9459, -1.9459, -1.9459, -1.9459, -1.9459, -1.9459, -1.9459, -1.9459, -1.9459, -1.9459, -1.9459, -1.9459, -1.9459, -1.9459, -1.9459, -1.9459, -1.9459, -1.9459, -1.9459, -1.9459, -1.9459, -1.9459, -1.9459, -1.9459, -1.9459, -1.9459, -1.9459, -1.9459, -1.9459, -1.9459, -1.9459, -1.9459, -1.9459, -1.9459, -1.9459, -1.9459, -1.9459, -1.9459, -1.9459, -1.9459, -1.9459, -1.9459, -1.9459, -1.9459, -1.9459, -1.9459, -1.9459, -1.9459, -1.9459, -1.9459, -1.9459, -1.9459, -1.9459, -1.9459, -1.9459, -1.9459, -1.9459, -1.9459, -1.9459, -1.9459, -1.9459, -1.9459, -1.9459, -1.9459, -1.9459, -1.9459, -1.9459, -1.9459, -1.9459, -1.9459, -1.9459, -1.9459, -1.9459, -1.9459, -1.9459, -1.9459, -1.9459, -1.9459, -1.9459, -1.9459, -1.9459, -1.9459, -1.9459, -1.9459, -1.9459, -1.9459, -1.9459, -1.9459, -1.9459, -1.9459, -1.9459, -1.9459, -1.9459, -1.9459, -1.9459, -1.9459, -1.9459, -1.9459, -1.9459, -1.9459, -1.9459, -1.9459, -1.9459, -1.9459, -1.9459, -1.9459, -1.9459, -1.9459, -1.9459, -1.9459, -1.9459, -1.9459, -1.9459, -1.9459, -1.9459, -1.9459, -1.9459, -1.9459, -1.9459, -1.9459, -1.9459, -1.9459, -1.9459, -1.9459, -1.9459, -1.9459, -1.9459, -1.9459, -1.9459, -1.9459, -1.9459, -1.9459, -1.9459, -1.9459, -1.9459, -1.9459, -1.9459, -1.9459, -1.9459, -1.9459, -1.9459, -1.9459, -1.9459, -1.9459, -1.9459, -1.9459, -1.9459, -1.9459, -1.9459, -1.9459, -1.9459, -1.9459, -1.9459, -1.9459, -1.9459, -1.9459, -1.9459, -1.9459, -1.9459, -1.9459, -1.9459, -1.9459, -1.9459, -1.9459, -1.9459, -1.9459, -1.9459, -1.9459, -1.9459, -1.9459, -1.9459, -1.9459, -1.9459, -1.9459, -1.9459, -1.9459, -1.9459, -1.9459, -1.9459, -1.9459, -1.9459, -1.9459, -1.9459, -1.9459, -1.9459, -1.9459, -1.9459, -1.9459, -1.9459, -1.9459, -1.9459, -1.9459, -1.9459, -1.9459, -1.9459, -1.9459, -1.9459, -1.9459, -1.9459, -1.9459, -1.9459, -1.9459, -1.9459, -1.9459, -1.9459, -1.9459, -1.9459, -1.9459, -1.9459, -1.9459, -1.9459, -1.9459, -1.9459, -1.9459, -1.9459, -1.9459, -1.9459, -1.9459, -1.9459, -1.9459, -1.9459, -1.9459, -1.9459, -1.9459, -1.9459, -1.9459, -1.9459, -1.9459, -1.9459, -1.9459, -1.9459, -1.9459, -1.9459, -1.9459, -1.9459, -1.9459, -1.9459, -1.9459, -1.9459, -1.9459, -1.9459, -1.9459, -1.9459, -1.9459, -1.9459, -1.9459, -1.9459, -1.9459, -1.9459, -1.9459, -1.9459, -1.9459, -1.9459, -1.9459, -1.9459, -1.9459, -1.9459, -1.9459, -1.9459, -1.9459, -1.9459, -1.9459, -1.9459, -1.9459, -1.9459, -1.9459, -1.9459, -1.9459, -1.9459, -1.9459, -1.9459, -1.9459, -1.9459, -1.9459, -1.9459, -1.9459, -1.9459, -1.9459, -1.9459, -1.9459, -1.9459, -1.9459, -1.9459, -1.9459, -1.9459, -1.9459, -1.9459, -1.9459, -1.9459, -1.9459, -1.9459, -1.9459, -1.9459, -1.9459, -1.9459, -1.9459, -1.9459, -1.9459, -1.9459, -1.9459, -1.9459, -1.9459, -1.9459, -1.9459, -1.9459, -1.9459, -1.9459, -1.9459, -1.9459, -1.9459, -1.9459, -1.9459, -1.9459, -1.9459, -1.9459, -1.9459, -1.9459, -1.9459, -1.9459, -1.9459, -1.9459, -1.9459, -1.9459, -1.9459, -1.9459, -1.9459, -1.9459, -1.9459, -1.9459, -1.9459, -1.9459, -1.9459, -1.9459, -1.9459, -1.9459, -1.9459, -1.9459, -1.9459, -1.9459, -1.9459, -1.9459, -1.9459, -1.9459, -1.9459, -1.9459, -1.9459, -1.9459, -1.9459, -1.9459, -1.9459, -1.9459, -1.9459, -1.9459, -1.9459, -1.9459, -1.9459, -1.9459, -1.9459, -1.9459, -1.9459, -1.9459, -1.9459, -1.9459, -1.9459, -1.9459, -1.9459, -1.9459, -1.9459, -1.9459, -1.9459, -1.9459, -1.9459, -1.9459, -1.9459, -1.9459, -1.9459, -1.9459, -1.9459, -1.9459, -1.9459, -1.9459, -1.9459, -1.9459, -1.9459, -1.9459, -1.9459, -1.9459, -1.9459, -1.9459, -1.9459, -1.9459, -1.9459, -1.9459, -1.9459, -1.9459, -1.9459, -1.9459, -1.9459, -1.9459, -1.9459, -1.9459, -1.9459, -1.9459, -1.9459, -1.9459, -1.9459, -1.9459, -1.9459, -1.9459, -1.9459, -1.9459, -1.9459, -1.9459, -1.9459, -1.9459, -1.9459, -1.9459, -1.9459, -1.9459, -1.9459, -1.9459, -1.9459, -1.9459, -1.9459, -1.9459, -1.9459, -1.9459, -1.9459, -1.9459, -1.9459, -1.9459, -1.9459, -1.9459, -1.9459, -1.9459, -1.9459, -1.9459, -1.9459, -1.9459, -1.9459, -1.9459, -1.9459, -1.9459, -1.9459, -1.9459, -1.9459, -1.9459, -1.9459, -1.9459, -1.9459, -1.9459, -1.9459, -1.9459, -1.9459, -1.9459, -1.9459, -1.9459, -1.9459, -1.9459, -1.9459, -1.9459, -1.9459, -1.9459, -1.9459, -1.9459, -1.9459, -1.9459, -1.9459, -1.9459, -1.9459, -1.9459, -1.9459, -1.9459, -1.9459, -1.9459, -1.9459, -1.9459, -1.9459, -1.9459, -1.9459, -1.9459, -1.9459, -1.9459, -1.9459, -1.9459, -1.9459, -1.9459, -1.9459, -1.9459, -1.9459, -1.9459, -1.9459, -1.9459, -1.9459, -1.9459, -1.9459, -1.9459, -1.9459, -1.9459, -1.9459, -1.9459, -1.9459, -1.9459, -1.9459, -1.9459, -1.9459, -1.9459, -1.9459, -1.9459, -1.9459, -1.9459, -1.9459, -1.9459, -1.9459, -1.9459, -1.9459, -1.9459, -1.9459, -1.9459, -1.9459, -1.9459, -1.9459, -1.9459, -1.9459, -1.9459, -1.9459, -1.9459, -1.9459, -1.9459, -1.9459, -1.9459, -1.9459, -1.9459, -1.9459, -1.9459, -1.9459, -1.9459, -1.9459, -1.9459, -1.9459, -1.9459, -1.9459, -1.9459, -1.9459, -1.9459, -1.9459, -1.9459, -1.9459, -1.9459, -1.9459, -1.9459, -1.9459, -1.9459, -1.9459, -1.9459, -1.9459, -1.9459, -1.9459, -1.9459, -1.9459, -1.9459, -1.9459, -1.9459, -1.9459, -1.9459, -1.9459, -1.9459, -1.9459, -1.9459, -1.9459, -1.9459, -1.9459, -1.9459, -1.9459, -1.9459, -1.9459, -1.9459, -1.9459, -1.9459, -1.9459, -1.9459, -1.9459, -1.9459, -1.9459, -1.9459, -1.9459, -1.9459, -1.9459, -1.9459, -1.9459, -1.9459, -1.9459, -1.9459, -1.9459, -1.9459, -1.9459, -1.9459, -1.9459, -1.9459, -1.9459, -1.9459, -1.9459, -1.9459, -1.9459, -1.9459, -1.9459, -1.9459, -1.9459, -1.9459, -1.9459, -1.9459, -1.9459, -1.9459, -1.9459, -1.9459, -1.9459, -1.9459, -1.9459, -1.9459, -1.9459, -1.9459, -1.9459, -1.9459, -1.9459, -1.9459, -1.9459, -1.9459, -1.9459, -1.9459, -1.9459, -1.9459, -1.9459, -1.9459, -1.9459, -1.9459, -1.9459, -1.9459, -1.9459, -1.9459, -1.9459, -1.9459, -1.9459, -1.9459, -1.9459, -1.9459, -1.9459, -1.9459, -1.9459, -1.9459, -1.9459, -1.9459, -1.9459, -1.9459, -1.9459, -1.9459, -1.9459, -1.9459, -1.9459, -1.9459, -1.9459], \"loglift\": [7.0, 6.0, 5.0, 4.0, 3.0, 2.0, 1.0, 0.0, 0.0, 0.0, 0.0, 0.0, 0.0, 0.0, 0.0, 0.0, 0.0, 0.0, 0.0, 0.0, 0.0, 0.0, 0.0, 0.0, 0.0, 0.0, 0.0, 0.0, 0.0, 0.0, 0.0, 0.0, 0.0, 0.0, 0.0, 0.0, 0.0, 0.0, 0.0, 0.0, 0.0, 0.0, 0.0, 0.0, 0.0, 0.0, 0.0, 0.0, 0.0, 0.0, 0.0, 0.0, 0.0, 0.0, 0.0, 0.0, 0.0, 0.0, 0.0, 0.0, 0.0, 0.0, 0.0, 0.0, 0.0, 0.0, 0.0, 0.0, 0.0, 0.0, 0.0, 0.0, 0.0, 0.0, 0.0, 0.0, 0.0, 0.0, 0.0, 0.0, 0.0, 0.0, 0.0, 0.0, 0.0, 0.0, 0.0, 0.0, 0.0, 0.0, 0.0, 0.0, 0.0, 0.0, 0.0, 0.0, 0.0, 0.0, 0.0, 0.0, 0.0, 0.0, 0.0, 0.0, 0.0, 0.0, 0.0, 0.0, 0.0, 0.0, 0.0, 0.0, 0.0, 0.0, 0.0, 0.0, 0.0, 0.0, 0.0, 0.0, 0.0, 0.0, 0.0, 0.0, 0.0, 0.0, 0.0, 0.0, 0.0, 0.0, 0.0, 0.0, 0.0, 0.0, 0.0, 0.0, 0.0, 0.0, 0.0, 0.0, 0.0, 0.0, 0.0, 0.0, 0.0, 0.0, 0.0, 0.0, 0.0, 0.0, 0.0, 0.0, 0.0, 0.0, 0.0, 0.0, 0.0, 0.0, 0.0, 0.0, 0.0, 0.0, 0.0, 0.0, 0.0, 0.0, 0.0, 0.0, 0.0, 0.0, 0.0, 0.0, 0.0, 0.0, 0.0, 0.0, 0.0, 0.0, 0.0, 0.0, 0.0, 0.0, 0.0, 0.0, 0.0, 0.0, 0.0, 0.0, 0.0, 0.0, 0.0, 0.0, 0.0, 0.0, 0.0, 0.0, 0.0, 0.0, 0.0, 0.0, 0.0, 0.0, 0.0, 0.0, 0.0, 0.0, 0.0, 0.0, 0.0, 0.0, 0.0, 0.0, 0.0, 0.0, 0.0, 0.0, 0.0, 0.0, 0.0, 0.0, 0.0, 0.0, 0.0, 0.0, 0.0, 0.0, 0.0, 0.0, 0.0, 0.0, 0.0, 0.0, 0.0, 0.0, 0.0, 0.0, 0.0, 0.0, 0.0, 0.0, 0.0, 0.0, 0.0, 0.0, 0.0, 0.0, 0.0, 0.0, 0.0, 0.0, 0.0, 0.0, 0.0, 0.0, 0.0, 0.0, 0.0, 0.0, 0.0, 0.0, 0.0, 0.0, 0.0, 0.0, 0.0, 0.0, 0.0, 0.0, 0.0, 0.0, 0.0, 0.0, 0.0, 0.0, 0.0, 0.0, 0.0, 0.0, 0.0, 0.0, 0.0, 0.0, 0.0, 0.0, 0.0, 0.0, 0.0, 0.0, 0.0, 0.0, 0.0, 0.0, 0.0, 0.0, 0.0, 0.0, 0.0, 0.0, 0.0, 0.0, 0.0, 0.0, 0.0, 0.0, 0.0, 0.0, 0.0, 0.0, 0.0, 0.0, 0.0, 0.0, 0.0, 0.0, 0.0, 0.0, 0.0, 0.0, 0.0, 0.0, 0.0, 0.0, 0.0, 0.0, 0.0, 0.0, 0.0, 0.0, 0.0, 0.0, 0.0, 0.0, 0.0, 0.0, 0.0, 0.0, 0.0, 0.0, 0.0, 0.0, 0.0, 0.0, 0.0, 0.0, 0.0, 0.0, 0.0, 0.0, 0.0, 0.0, 0.0, 0.0, 0.0, 0.0, 0.0, 0.0, 0.0, 0.0, 0.0, 0.0, 0.0, 0.0, 0.0, 0.0, 0.0, 0.0, 0.0, 0.0, 0.0, 0.0, 0.0, 0.0, 0.0, 0.0, 0.0, 0.0, 0.0, 0.0, 0.0, 0.0, 0.0, 0.0, 0.0, 0.0, 0.0, 0.0, 0.0, 0.0, 0.0, 0.0, 0.0, 0.0, 0.0, 0.0, 0.0, 0.0, 0.0, 0.0, 0.0, 0.0, 0.0, 0.0, 0.0, 0.0, 0.0, 0.0, 0.0, 0.0, 0.0, 0.0, 0.0, 0.0, 0.0, 0.0, 0.0, 0.0, 0.0, 0.0, 0.0, 0.0, 0.0, 0.0, 0.0, 0.0, 0.0, 0.0, 0.0, 0.0, 0.0, 0.0, 0.0, 0.0, 0.0, 0.0, 0.0, 0.0, 0.0, 0.0, 0.0, 0.0, 0.0, 0.0, 0.0, 0.0, 0.0, 0.0, 0.0, 0.0, 0.0, 0.0, 0.0, 0.0, 0.0, 0.0, 0.0, 0.0, 0.0, 0.0, 0.0, 0.0, 0.0, 0.0, 0.0, 0.0, 0.0, 0.0, 0.0, 0.0, 0.0, 0.0, 0.0, 0.0, 0.0, 0.0, 0.0, 0.0, 0.0, 0.0, 0.0, 0.0, 0.0, 0.0, 0.0, 0.0, 0.0, 0.0, 0.0, 0.0, 0.0, 0.0, 0.0, 0.0, 0.0, 0.0, 0.0, 0.0, 0.0, 0.0, 0.0, 0.0, 0.0, 0.0, 0.0, 0.0, 0.0, 0.0, 0.0, 0.0, 0.0, 0.0, 0.0, 0.0, 0.0, 0.0, 0.0, 0.0, 0.0, 0.0, 0.0, 0.0, 0.0, 0.0, 0.0, 0.0, 0.0, 0.0, 0.0, 0.0, 0.0, 0.0, 0.0, 0.0, 0.0, 0.0, 0.0, 0.0, 0.0, 0.0, 0.0, 0.0, 0.0, 0.0, 0.0, 0.0, 0.0, 0.0, 0.0, 0.0, 0.0, 0.0, 0.0, 0.0, 0.0, 0.0, 0.0, 0.0, 0.0, 0.0, 0.0, 0.0, 0.0, 0.0, 0.0, 0.0, 0.0, 0.0, 0.0, 0.0, 0.0, 0.0, 0.0, 0.0, 0.0, 0.0, 0.0, 0.0, 0.0, 0.0, 0.0, 0.0, 0.0, 0.0, 0.0, 0.0, 0.0, 0.0, 0.0, 0.0, 0.0, 0.0, 0.0, 0.0, 0.0, 0.0, 0.0, 0.0, 0.0, 0.0, 0.0, 0.0, 0.0, 0.0, 0.0, 0.0, 0.0, 0.0, 0.0, 0.0, 0.0, 0.0, 0.0, 0.0, 0.0, 0.0, 0.0, 0.0, 0.0, 0.0, 0.0, 0.0, 0.0, 0.0, 0.0, 0.0, 0.0, 0.0, 0.0, 0.0, 0.0, 0.0, 0.0, 0.0, 0.0, 0.0, 0.0, 0.0, 0.0, 0.0, 0.0, 0.0, 0.0, 0.0, 0.0, 0.0, 0.0, 0.0, 0.0, 0.0, 0.0, 0.0, 0.0, 0.0, 0.0, 0.0, 0.0, 0.0, 0.0, 0.0, 0.0, 0.0, 0.0, 0.0, 0.0, 0.0, 0.0, 0.0, 0.0, 0.0, 0.0, 0.0, 0.0, 0.0, 0.0, 0.0, 0.0, 0.0, 0.0, 0.0, 0.0, 0.0, 0.0, 0.0, 0.0, 0.0, 0.0, 0.0, 0.0, 0.0, 0.0, 0.0, 0.0, 0.0, 0.0, 0.0, 0.0, 0.0, 0.0, 0.0, 0.0, 0.0, 0.0, 0.0, 0.0, 0.0, 0.0, 0.0, 0.0]}, \"token.table\": {\"Topic\": [], \"Freq\": [], \"Term\": []}, \"R\": 7, \"lambda.step\": 0.01, \"plot.opts\": {\"xlab\": \"PC1\", \"ylab\": \"PC2\"}, \"topic.order\": [1, 64, 74, 73, 72, 71, 70, 69, 68, 67, 66, 65, 63, 2, 62, 61, 60, 59, 58, 57, 56, 55, 54, 53, 75, 76, 77, 78, 99, 98, 97, 96, 95, 94, 93, 92, 91, 90, 89, 88, 87, 86, 85, 84, 83, 82, 81, 80, 79, 52, 51, 50, 25, 23, 22, 21, 20, 19, 18, 17, 16, 15, 14, 13, 12, 11, 10, 9, 8, 7, 6, 5, 4, 3, 24, 26, 49, 27, 48, 47, 46, 45, 44, 43, 42, 41, 40, 39, 38, 37, 36, 35, 34, 33, 32, 31, 30, 29, 28, 100]};\n",
              "\n",
              "function LDAvis_load_lib(url, callback){\n",
              "  var s = document.createElement('script');\n",
              "  s.src = url;\n",
              "  s.async = true;\n",
              "  s.onreadystatechange = s.onload = callback;\n",
              "  s.onerror = function(){console.warn(\"failed to load library \" + url);};\n",
              "  document.getElementsByTagName(\"head\")[0].appendChild(s);\n",
              "}\n",
              "\n",
              "if(typeof(LDAvis) !== \"undefined\"){\n",
              "   // already loaded: just create the visualization\n",
              "   !function(LDAvis){\n",
              "       new LDAvis(\"#\" + \"ldavis_el304971343537900775202397534943\", ldavis_el304971343537900775202397534943_data);\n",
              "   }(LDAvis);\n",
              "}else if(typeof define === \"function\" && define.amd){\n",
              "   // require.js is available: use it to load d3/LDAvis\n",
              "   require.config({paths: {d3: \"https://d3js.org/d3.v5\"}});\n",
              "   require([\"d3\"], function(d3){\n",
              "      window.d3 = d3;\n",
              "      LDAvis_load_lib(\"https://cdn.jsdelivr.net/gh/bmabey/pyLDAvis@3.4.0/pyLDAvis/js/ldavis.v3.0.0.js\", function(){\n",
              "        new LDAvis(\"#\" + \"ldavis_el304971343537900775202397534943\", ldavis_el304971343537900775202397534943_data);\n",
              "      });\n",
              "    });\n",
              "}else{\n",
              "    // require.js not available: dynamically load d3 & LDAvis\n",
              "    LDAvis_load_lib(\"https://d3js.org/d3.v5.js\", function(){\n",
              "         LDAvis_load_lib(\"https://cdn.jsdelivr.net/gh/bmabey/pyLDAvis@3.4.0/pyLDAvis/js/ldavis.v3.0.0.js\", function(){\n",
              "                 new LDAvis(\"#\" + \"ldavis_el304971343537900775202397534943\", ldavis_el304971343537900775202397534943_data);\n",
              "            })\n",
              "         });\n",
              "}\n",
              "</script>"
            ]
          },
          "metadata": {},
          "execution_count": 17
        }
      ]
    },
    {
      "cell_type": "code",
      "source": [
        "model.show_topic(1)"
      ],
      "metadata": {
        "colab": {
          "base_uri": "https://localhost:8080/"
        },
        "id": "H-M-yg73MB15",
        "outputId": "c409e2b5-32cd-4caa-f113-8811a296cfbb"
      },
      "execution_count": 18,
      "outputs": [
        {
          "output_type": "execute_result",
          "data": {
            "text/plain": [
              "[('โรงแรม', 0.14285715),\n",
              " ('ชอบ', 0.14285715),\n",
              " ('บริการ', 0.14285715),\n",
              " ('พัก', 0.14285715),\n",
              " ('ป็น', 0.14285715),\n",
              " ('ห้อง', 0.14285715),\n",
              " ('ประทับใจ', 0.14285715)]"
            ]
          },
          "metadata": {},
          "execution_count": 18
        }
      ]
    },
    {
      "cell_type": "code",
      "source": [
        "def get_topic_and_score(document):\n",
        "    doc_bow = dictionary.doc2bow(document.split(','))\n",
        "    topics = model.get_document_topics(doc_bow)\n",
        "    if topics:\n",
        "        return topics[0]\n",
        "    else:\n",
        "        return None\n",
        "\n",
        "df['topic_and_score'] = df['Review_tokenized'].apply(get_topic_and_score)\n",
        "\n",
        "\n",
        "df['topics'] = df['topic_and_score'].apply(lambda x: x[0][0] if x else None)\n",
        "df['score'] = df['topic_and_score'].apply(lambda x: x[0][1] if x else None)\n",
        "\n",
        "df.drop(columns=['topic_and_score'], inplace=True)\n"
      ],
      "metadata": {
        "id": "W_kXvzwkTbwp"
      },
      "execution_count": 22,
      "outputs": []
    },
    {
      "cell_type": "code",
      "source": [
        "df.tail()"
      ],
      "metadata": {
        "colab": {
          "base_uri": "https://localhost:8080/",
          "height": 206
        },
        "id": "t5c-J-MCSmh6",
        "outputId": "2c9cf38e-b4cc-4175-e137-c7b0ced21c2d"
      },
      "execution_count": 23,
      "outputs": [
        {
          "output_type": "execute_result",
          "data": {
            "text/plain": [
              "   Review ID                                             Review  \\\n",
              "5          6  มาพักครั้งแรก ประทับใจการบริการและการต้อนรับ ท...   \n",
              "6          7  ป็นโรงแรมที่คิดมาตลอดว่า ต้องมาพักดูสักคืน โดย...   \n",
              "7          8  เข้าพักทั้งครอบครัวเราพักที่นี่ประจำ มาวันธรรม...   \n",
              "8          9  ห้องสวยมาก แต่หาดเฉยๆ เหมาะกับการมาเปลี่ยนที่น...   \n",
              "9         10  ประทับใจบริการทุกครั้งที่ได้ไปพัก ทุกแผนกเลย ห...   \n",
              "\n",
              "  Review_tokenized topics score  \n",
              "5              พัก   None  None  \n",
              "6              ป็น   None  None  \n",
              "7              พัก   None  None  \n",
              "8             ห้อง   None  None  \n",
              "9         ประทับใจ   None  None  "
            ],
            "text/html": [
              "\n",
              "  <div id=\"df-25d7cc13-4c23-403c-b69f-256516435a20\" class=\"colab-df-container\">\n",
              "    <div>\n",
              "<style scoped>\n",
              "    .dataframe tbody tr th:only-of-type {\n",
              "        vertical-align: middle;\n",
              "    }\n",
              "\n",
              "    .dataframe tbody tr th {\n",
              "        vertical-align: top;\n",
              "    }\n",
              "\n",
              "    .dataframe thead th {\n",
              "        text-align: right;\n",
              "    }\n",
              "</style>\n",
              "<table border=\"1\" class=\"dataframe\">\n",
              "  <thead>\n",
              "    <tr style=\"text-align: right;\">\n",
              "      <th></th>\n",
              "      <th>Review ID</th>\n",
              "      <th>Review</th>\n",
              "      <th>Review_tokenized</th>\n",
              "      <th>topics</th>\n",
              "      <th>score</th>\n",
              "    </tr>\n",
              "  </thead>\n",
              "  <tbody>\n",
              "    <tr>\n",
              "      <th>5</th>\n",
              "      <td>6</td>\n",
              "      <td>มาพักครั้งแรก ประทับใจการบริการและการต้อนรับ ท...</td>\n",
              "      <td>พัก</td>\n",
              "      <td>None</td>\n",
              "      <td>None</td>\n",
              "    </tr>\n",
              "    <tr>\n",
              "      <th>6</th>\n",
              "      <td>7</td>\n",
              "      <td>ป็นโรงแรมที่คิดมาตลอดว่า ต้องมาพักดูสักคืน โดย...</td>\n",
              "      <td>ป็น</td>\n",
              "      <td>None</td>\n",
              "      <td>None</td>\n",
              "    </tr>\n",
              "    <tr>\n",
              "      <th>7</th>\n",
              "      <td>8</td>\n",
              "      <td>เข้าพักทั้งครอบครัวเราพักที่นี่ประจำ มาวันธรรม...</td>\n",
              "      <td>พัก</td>\n",
              "      <td>None</td>\n",
              "      <td>None</td>\n",
              "    </tr>\n",
              "    <tr>\n",
              "      <th>8</th>\n",
              "      <td>9</td>\n",
              "      <td>ห้องสวยมาก แต่หาดเฉยๆ เหมาะกับการมาเปลี่ยนที่น...</td>\n",
              "      <td>ห้อง</td>\n",
              "      <td>None</td>\n",
              "      <td>None</td>\n",
              "    </tr>\n",
              "    <tr>\n",
              "      <th>9</th>\n",
              "      <td>10</td>\n",
              "      <td>ประทับใจบริการทุกครั้งที่ได้ไปพัก ทุกแผนกเลย ห...</td>\n",
              "      <td>ประทับใจ</td>\n",
              "      <td>None</td>\n",
              "      <td>None</td>\n",
              "    </tr>\n",
              "  </tbody>\n",
              "</table>\n",
              "</div>\n",
              "    <div class=\"colab-df-buttons\">\n",
              "\n",
              "  <div class=\"colab-df-container\">\n",
              "    <button class=\"colab-df-convert\" onclick=\"convertToInteractive('df-25d7cc13-4c23-403c-b69f-256516435a20')\"\n",
              "            title=\"Convert this dataframe to an interactive table.\"\n",
              "            style=\"display:none;\">\n",
              "\n",
              "  <svg xmlns=\"http://www.w3.org/2000/svg\" height=\"24px\" viewBox=\"0 -960 960 960\">\n",
              "    <path d=\"M120-120v-720h720v720H120Zm60-500h600v-160H180v160Zm220 220h160v-160H400v160Zm0 220h160v-160H400v160ZM180-400h160v-160H180v160Zm440 0h160v-160H620v160ZM180-180h160v-160H180v160Zm440 0h160v-160H620v160Z\"/>\n",
              "  </svg>\n",
              "    </button>\n",
              "\n",
              "  <style>\n",
              "    .colab-df-container {\n",
              "      display:flex;\n",
              "      gap: 12px;\n",
              "    }\n",
              "\n",
              "    .colab-df-convert {\n",
              "      background-color: #E8F0FE;\n",
              "      border: none;\n",
              "      border-radius: 50%;\n",
              "      cursor: pointer;\n",
              "      display: none;\n",
              "      fill: #1967D2;\n",
              "      height: 32px;\n",
              "      padding: 0 0 0 0;\n",
              "      width: 32px;\n",
              "    }\n",
              "\n",
              "    .colab-df-convert:hover {\n",
              "      background-color: #E2EBFA;\n",
              "      box-shadow: 0px 1px 2px rgba(60, 64, 67, 0.3), 0px 1px 3px 1px rgba(60, 64, 67, 0.15);\n",
              "      fill: #174EA6;\n",
              "    }\n",
              "\n",
              "    .colab-df-buttons div {\n",
              "      margin-bottom: 4px;\n",
              "    }\n",
              "\n",
              "    [theme=dark] .colab-df-convert {\n",
              "      background-color: #3B4455;\n",
              "      fill: #D2E3FC;\n",
              "    }\n",
              "\n",
              "    [theme=dark] .colab-df-convert:hover {\n",
              "      background-color: #434B5C;\n",
              "      box-shadow: 0px 1px 3px 1px rgba(0, 0, 0, 0.15);\n",
              "      filter: drop-shadow(0px 1px 2px rgba(0, 0, 0, 0.3));\n",
              "      fill: #FFFFFF;\n",
              "    }\n",
              "  </style>\n",
              "\n",
              "    <script>\n",
              "      const buttonEl =\n",
              "        document.querySelector('#df-25d7cc13-4c23-403c-b69f-256516435a20 button.colab-df-convert');\n",
              "      buttonEl.style.display =\n",
              "        google.colab.kernel.accessAllowed ? 'block' : 'none';\n",
              "\n",
              "      async function convertToInteractive(key) {\n",
              "        const element = document.querySelector('#df-25d7cc13-4c23-403c-b69f-256516435a20');\n",
              "        const dataTable =\n",
              "          await google.colab.kernel.invokeFunction('convertToInteractive',\n",
              "                                                    [key], {});\n",
              "        if (!dataTable) return;\n",
              "\n",
              "        const docLinkHtml = 'Like what you see? Visit the ' +\n",
              "          '<a target=\"_blank\" href=https://colab.research.google.com/notebooks/data_table.ipynb>data table notebook</a>'\n",
              "          + ' to learn more about interactive tables.';\n",
              "        element.innerHTML = '';\n",
              "        dataTable['output_type'] = 'display_data';\n",
              "        await google.colab.output.renderOutput(dataTable, element);\n",
              "        const docLink = document.createElement('div');\n",
              "        docLink.innerHTML = docLinkHtml;\n",
              "        element.appendChild(docLink);\n",
              "      }\n",
              "    </script>\n",
              "  </div>\n",
              "\n",
              "\n",
              "<div id=\"df-e734b7d9-3ee8-49fb-94ad-cbba22c2194c\">\n",
              "  <button class=\"colab-df-quickchart\" onclick=\"quickchart('df-e734b7d9-3ee8-49fb-94ad-cbba22c2194c')\"\n",
              "            title=\"Suggest charts.\"\n",
              "            style=\"display:none;\">\n",
              "\n",
              "<svg xmlns=\"http://www.w3.org/2000/svg\" height=\"24px\"viewBox=\"0 0 24 24\"\n",
              "     width=\"24px\">\n",
              "    <g>\n",
              "        <path d=\"M19 3H5c-1.1 0-2 .9-2 2v14c0 1.1.9 2 2 2h14c1.1 0 2-.9 2-2V5c0-1.1-.9-2-2-2zM9 17H7v-7h2v7zm4 0h-2V7h2v10zm4 0h-2v-4h2v4z\"/>\n",
              "    </g>\n",
              "</svg>\n",
              "  </button>\n",
              "\n",
              "<style>\n",
              "  .colab-df-quickchart {\n",
              "    background-color: #E8F0FE;\n",
              "    border: none;\n",
              "    border-radius: 50%;\n",
              "    cursor: pointer;\n",
              "    display: none;\n",
              "    fill: #1967D2;\n",
              "    height: 32px;\n",
              "    padding: 0 0 0 0;\n",
              "    width: 32px;\n",
              "  }\n",
              "\n",
              "  .colab-df-quickchart:hover {\n",
              "    background-color: #E2EBFA;\n",
              "    box-shadow: 0px 1px 2px rgba(60, 64, 67, 0.3), 0px 1px 3px 1px rgba(60, 64, 67, 0.15);\n",
              "    fill: #174EA6;\n",
              "  }\n",
              "\n",
              "  [theme=dark] .colab-df-quickchart {\n",
              "    background-color: #3B4455;\n",
              "    fill: #D2E3FC;\n",
              "  }\n",
              "\n",
              "  [theme=dark] .colab-df-quickchart:hover {\n",
              "    background-color: #434B5C;\n",
              "    box-shadow: 0px 1px 3px 1px rgba(0, 0, 0, 0.15);\n",
              "    filter: drop-shadow(0px 1px 2px rgba(0, 0, 0, 0.3));\n",
              "    fill: #FFFFFF;\n",
              "  }\n",
              "</style>\n",
              "\n",
              "  <script>\n",
              "    async function quickchart(key) {\n",
              "      const charts = await google.colab.kernel.invokeFunction(\n",
              "          'suggestCharts', [key], {});\n",
              "    }\n",
              "    (() => {\n",
              "      let quickchartButtonEl =\n",
              "        document.querySelector('#df-e734b7d9-3ee8-49fb-94ad-cbba22c2194c button');\n",
              "      quickchartButtonEl.style.display =\n",
              "        google.colab.kernel.accessAllowed ? 'block' : 'none';\n",
              "    })();\n",
              "  </script>\n",
              "</div>\n",
              "    </div>\n",
              "  </div>\n"
            ]
          },
          "metadata": {},
          "execution_count": 23
        }
      ]
    }
  ]
}